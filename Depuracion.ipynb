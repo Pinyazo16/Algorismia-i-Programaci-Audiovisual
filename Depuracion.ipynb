{
 "cells": [
  {
   "cell_type": "markdown",
   "metadata": {},
   "source": [
    "# Depuración de programas\n",
    "---\n",
    "\n",
    "### 1.1.1. Introducción a la depuración de programas\n",
    "La depuración de programas es un proceso fundamental en el desarrollo de software. Consiste en identificar y corregir errores en el código de un programa para asegurarse de que funcione correctamente. La depuración es esencial para garantizar la calidad y la confiabilidad del software.\n",
    "\n",
    "### 1.1.2. Tipos de errores en la depuración\n",
    "Existen varios tipos de errores que pueden ocurrir en la depuración de programas, incluyendo:\n",
    "*   Errores lógicos: son errores en la lógica del programa que pueden provocar resultados incorrectos.\n",
    "*   Errores de sintaxis: son errores en la estructura del código que pueden evitar que el programa se ejecute correctamente.\n",
    "*   Errores de semántica: son errores en la interpretación del código que pueden provocar resultados incorrectos.\n",
    "*   Errores de runtime: son errores que ocurren durante la ejecución del programa que pueden provocar resultados incorrectos.\n",
    "\n",
    "### 1.1.3. Herramientas de depuración\n",
    "Existen varias herramientas de depuración que pueden ayudar a identificar y corregir errores en el código de un programa. Algunas de las herramientas más comunes incluyen:\n",
    "*   Depuradores integrados en el entorno de desarrollo (IDE): muchos IDEs incluyen herramientas de depuración integradas que permiten a los desarrolladores identificar y corregir errores en el código.\n",
    "*   Herramientas de depuración de terceros: existen varias herramientas de depuración de terceros que pueden ser utilizadas para identificar y corregir errores en el código.\n",
    "*   Pruebas unitarias: las pruebas unitarias son una técnica de depuración que consiste en escribir pruebas para cada unidad de código para asegurarse de que funcione correctamente.\n",
    "\n",
    "### 1.1.4. Técnicas de depuración\n",
    "Existen varias técnicas de depuración que pueden ser utilizadas para identificar y corregir errores en el código de un programa. Algunas de las técnicas más com unes incluyen:\n",
    "*   Análisis de código: consiste en revisar el código para identificar errores y optimizar el rendimiento.\n",
    "*   Pruebas de carga: consiste en probar el programa con diferentes cargas de trabajo para asegurarse de que funcione correctamente.\n",
    "*   Pruebas de estrés: consiste en probar el programa con diferentes niveles de estrés para asegurarse de que funcione correctamente.\n",
    "*   Pruebas de rendimiento: consiste en probar el programa para asegurarse de que funcione correctamente y sea eficiente en términos de rendimiento.\n",
    "\n",
    "### 1.1.5. Importancia de la depuración\n",
    "La depuración de programas es fundamental para garantizar la calidad y la confiabilidad del software. Al identificar y corregir errores en el código, los desarrolladores pueden asegurarse de que el programa funcione correctamente y sea seguro para el usuario. La depuración también puede ayudar a mejorar el rendimiento y la eficiencia del programa, lo que puede resultar en una mejor experiencia para el usuario.\n",
    "\n",
    "### 1.1.6. Conclusión\n",
    "La depuración de programas es un proceso fundamental en el desarrollo de software. Al identificar y corregir errores en el código, los desarrolladores pueden asegurarse de que el programa funcione correctamente y sea seguro para el usuario. La depuración también puede ayudar a mejorar el rendimiento y la eficiencia del programa, lo que puede resultar en una mejor experiencia para el usuario."
   ]
  },
  {
   "cell_type": "markdown",
   "metadata": {},
   "source": [
    "## Asserts\n",
    "---\n",
    "Los asserts se usan para verificar que se cumple una cierta condicion. En caso contrario, el programa terminarà, y se mostrarà un mensaje de error.\n",
    "\n",
    "```python\n",
    "assert 1 + 1 == 2, \"1 + 1 should equal 2\"\n",
    "```\n"
   ]
  },
  {
   "cell_type": "code",
   "execution_count": 3,
   "metadata": {},
   "outputs": [],
   "source": [
    "assert 1 + 1 == 2 "
   ]
  },
  {
   "cell_type": "code",
   "execution_count": 4,
   "metadata": {},
   "outputs": [
    {
     "ename": "AssertionError",
     "evalue": "",
     "output_type": "error",
     "traceback": [
      "\u001b[0;31m---------------------------------------------------------------------------\u001b[0m",
      "\u001b[0;31mAssertionError\u001b[0m                            Traceback (most recent call last)",
      "Cell \u001b[0;32mIn[4], line 1\u001b[0m\n\u001b[0;32m----> 1\u001b[0m \u001b[38;5;28;01massert\u001b[39;00m \u001b[38;5;241m1\u001b[39m \u001b[38;5;241m+\u001b[39m \u001b[38;5;241m1\u001b[39m \u001b[38;5;241m==\u001b[39m \u001b[38;5;241m3\u001b[39m\n",
      "\u001b[0;31mAssertionError\u001b[0m: "
     ]
    }
   ],
   "source": [
    "assert 1 + 1 == 3"
   ]
  },
  {
   "cell_type": "code",
   "execution_count": 10,
   "metadata": {},
   "outputs": [
    {
     "name": "stdout",
     "output_type": "stream",
     "text": [
      "1 2 3\n"
     ]
    }
   ],
   "source": [
    "def funcion(uno, /, dos, *, tres):\n",
    "    print(uno, dos, tres)\n",
    "\n",
    "funcion(1, dos = 2, tres = 3)\n",
    "# El * fuerza invocacion por clave\n",
    "# El / fuerza invocacion posicional"
   ]
  },
  {
   "cell_type": "markdown",
   "metadata": {},
   "source": [
    "Con el comando `sep=\\t' forzamos la separacion de los elementos con una tabulacion."
   ]
  },
  {
   "cell_type": "code",
   "execution_count": 13,
   "metadata": {},
   "outputs": [
    {
     "name": "stdout",
     "output_type": "stream",
     "text": [
      "1\t2\t3\t4\t5\n"
     ]
    }
   ],
   "source": [
    "print(1, 2, 3, 4, 5, sep='\\t')"
   ]
  },
  {
   "cell_type": "code",
   "execution_count": 18,
   "metadata": {},
   "outputs": [],
   "source": [
    "def funcion2(*elementos, fin):\n",
    "    print(elementos)\n",
    "    for elemento in elementos:\n",
    "        print(elemento)\n",
    "    print(fin)\n",
    "    "
   ]
  },
  {
   "cell_type": "code",
   "execution_count": 20,
   "metadata": {},
   "outputs": [
    {
     "name": "stdout",
     "output_type": "stream",
     "text": [
      "(1, 2, 3)\n",
      "1\n",
      "2\n",
      "3\n",
      "5\n"
     ]
    }
   ],
   "source": [
    "funcion2(1,2,3, fin = 5)"
   ]
  },
  {
   "cell_type": "code",
   "execution_count": 21,
   "metadata": {},
   "outputs": [],
   "source": [
    "lista = [1, 2, 3, 4, 5]"
   ]
  },
  {
   "cell_type": "code",
   "execution_count": 24,
   "metadata": {},
   "outputs": [
    {
     "name": "stdout",
     "output_type": "stream",
     "text": [
      "1\t2\t3\t4\t5\n"
     ]
    }
   ],
   "source": [
    "print(*lista, sep='\\t')"
   ]
  },
  {
   "cell_type": "code",
   "execution_count": 25,
   "metadata": {},
   "outputs": [
    {
     "name": "stdout",
     "output_type": "stream",
     "text": [
      "1 2 3 4 5 1 2 3 4 5\n"
     ]
    }
   ],
   "source": [
    "print(*lista, *lista)"
   ]
  },
  {
   "cell_type": "code",
   "execution_count": 26,
   "metadata": {},
   "outputs": [],
   "source": [
    "def funcion(*lista, **diccionario):\n",
    "    print(lista)\n",
    "    print(diccionario)\n",
    "    "
   ]
  },
  {
   "cell_type": "code",
   "execution_count": 28,
   "metadata": {},
   "outputs": [
    {
     "name": "stdout",
     "output_type": "stream",
     "text": [
      "(1, 2, 3)\n",
      "{'tonto': 4, 'burro': 5}\n"
     ]
    }
   ],
   "source": [
    "funcion(1, 2, 3, tonto = 4, burro = 5)"
   ]
  },
  {
   "cell_type": "code",
   "execution_count": 30,
   "metadata": {},
   "outputs": [
    {
     "name": "stdout",
     "output_type": "stream",
     "text": [
      "()\n",
      "{'U': 1, 'Dos': 2, 'Tres': 3, 'Quatre': 4}\n"
     ]
    }
   ],
   "source": [
    "diccionario = {'U': 1, 'Dos': 2, 'Tres': 3, 'Quatre': 4}\n",
    "funcion(**diccionario)"
   ]
  }
 ],
 "metadata": {
  "kernelspec": {
   "display_name": "apa",
   "language": "python",
   "name": "python3"
  },
  "language_info": {
   "codemirror_mode": {
    "name": "ipython",
    "version": 3
   },
   "file_extension": ".py",
   "mimetype": "text/x-python",
   "name": "python",
   "nbconvert_exporter": "python",
   "pygments_lexer": "ipython3",
   "version": "3.11.0rc1"
  }
 },
 "nbformat": 4,
 "nbformat_minor": 2
}
