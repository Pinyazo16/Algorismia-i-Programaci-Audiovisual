{
 "cells": [
  {
   "cell_type": "markdown",
   "id": "c7668dcc",
   "metadata": {},
   "source": []
  },
  {
   "cell_type": "code",
   "execution_count": 1,
   "id": "2952897f",
   "metadata": {},
   "outputs": [
    {
     "name": "stdout",
     "output_type": "stream",
     "text": [
      "\u001b[0;31mDocstring:\u001b[0m\n",
      "pack(format, v1, v2, ...) -> bytes\n",
      "\n",
      "Return a bytes object containing the values v1, v2, ... packed according\n",
      "to the format string.  See help(struct) for more on format strings.\n",
      "\u001b[0;31mType:\u001b[0m      builtin_function_or_method\n"
     ]
    }
   ],
   "source": [
    "import struct as st\n",
    "# from struct import *\n",
    "\n",
    "st.pack?"
   ]
  },
  {
   "cell_type": "code",
   "execution_count": 4,
   "id": "d68b79b3",
   "metadata": {},
   "outputs": [
    {
     "data": {
      "text/plain": [
       "b'\"\\x00\\x00\\x00V\\x0eI@'"
      ]
     },
     "execution_count": 4,
     "metadata": {},
     "output_type": "execute_result"
    }
   ],
   "source": [
    "entero = 34\n",
    "real = 3.1415\n",
    "\n",
    "st.pack('@hf', entero, real) # Formato puede ser: '@'nativo de la maquina, '<' little endian, '>' big endian"
   ]
  },
  {
   "cell_type": "code",
   "execution_count": 5,
   "id": "5e0460df",
   "metadata": {},
   "outputs": [
    {
     "data": {
      "text/plain": [
       "8"
      ]
     },
     "execution_count": 5,
     "metadata": {},
     "output_type": "execute_result"
    }
   ],
   "source": [
    "len(_)"
   ]
  },
  {
   "cell_type": "code",
   "execution_count": 6,
   "id": "d62f8b52",
   "metadata": {},
   "outputs": [],
   "source": [
    "# Escribimos la estructura de bytes dentro de un fichero:\n",
    "# Gestor de contexto (ENTRA EN EXAMEN)\n",
    "\n",
    "with open('fichero.bin', '+wb') as fpbin:\n",
    "    formato = '@hf'\n",
    "    datos = st.pack(formato, entero, real)\n",
    "    fpbin.write(datos)"
   ]
  },
  {
   "cell_type": "code",
   "execution_count": 8,
   "id": "39d2a82c",
   "metadata": {},
   "outputs": [
    {
     "name": "stdout",
     "output_type": "stream",
     "text": [
      "entero = 34\t real = 3.1414999961853027\n"
     ]
    }
   ],
   "source": [
    "with open('fichero.bin', 'rb') as fpbin:\n",
    "    formato = '@hf'\n",
    "    datos = fpbin.read()\n",
    "    entero, real = st.unpack(formato, datos)\n",
    "print(f'{entero = }\\t {real = }')"
   ]
  },
  {
   "cell_type": "markdown",
   "id": "3df89fe1",
   "metadata": {},
   "source": [
    "En el char tipo pascal, el primer byte indica la longitud de la cadena, lo qual limita la longitud a 256 bytes."
   ]
  },
  {
   "cell_type": "code",
   "execution_count": 9,
   "id": "8aa5a0be",
   "metadata": {},
   "outputs": [
    {
     "data": {
      "text/plain": [
       "b'\\x0c\\x00\\x00\\x00 \\x00\\x00\\x00.\\x00\\x00\\x009\\x00\\x00\\x00'"
      ]
     },
     "execution_count": 9,
     "metadata": {},
     "output_type": "execute_result"
    }
   ],
   "source": [
    "st.pack('@iiii', 12, 32, 46, 57)"
   ]
  },
  {
   "cell_type": "code",
   "execution_count": null,
   "id": "5288cef3",
   "metadata": {},
   "outputs": [
    {
     "data": {
      "text/plain": [
       "b'\\x01\\x00\\x00\\x00\\x02\\x00\\x00\\x00\\x03\\x00\\x00\\x00\\x04\\x00\\x00\\x00'"
      ]
     },
     "execution_count": 10,
     "metadata": {},
     "output_type": "execute_result"
    }
   ],
   "source": [
    "st.pack('@4i', 1, 2, 3, 4) # el 4i es equivalente al iiii"
   ]
  },
  {
   "cell_type": "code",
   "execution_count": 11,
   "id": "b20fb1d6",
   "metadata": {},
   "outputs": [
    {
     "name": "stdout",
     "output_type": "stream",
     "text": [
      "b'muy la'\n",
      "b'muy justa'\n",
      "b'muy corta\\x00\\x00\\x00'\n"
     ]
    }
   ],
   "source": [
    "cadena = st.pack('@6s9s12s', b'muy larga', b'muy justa', b'muy corta')\n",
    "larga, justa, corta = st.unpack('@6s9s12s', cadena)\n",
    "print(larga, justa, corta, sep='\\n')"
   ]
  },
  {
   "cell_type": "code",
   "execution_count": 13,
   "id": "76d8bf2c",
   "metadata": {},
   "outputs": [
    {
     "name": "stdout",
     "output_type": "stream",
     "text": [
      "b'\\x05muy l\\x08muy just\\tmuy corta\\x00\\x00'\n",
      "b'muy l'\n",
      "b'muy just'\n",
      "b'muy corta'\n"
     ]
    }
   ],
   "source": [
    "cadena = st.pack('@6p9p12p', b'muy larga', b'muy justa', b'muy corta')\n",
    "larga, justa, corta = st.unpack('@6p9p12p', cadena)\n",
    "print(cadena)\n",
    "print(larga, justa, corta, sep='\\n')"
   ]
  },
  {
   "cell_type": "code",
   "execution_count": 14,
   "id": "c0415c69",
   "metadata": {},
   "outputs": [
    {
     "data": {
      "text/plain": [
       "b'Si'"
      ]
     },
     "execution_count": 14,
     "metadata": {},
     "output_type": "execute_result"
    }
   ],
   "source": [
    "bytes('Si', encoding = 'utf-8')"
   ]
  },
  {
   "cell_type": "code",
   "execution_count": 15,
   "id": "38635953",
   "metadata": {},
   "outputs": [
    {
     "data": {
      "text/plain": [
       "b'si'"
      ]
     },
     "execution_count": 15,
     "metadata": {},
     "output_type": "execute_result"
    }
   ],
   "source": [
    "# manera mas directa\n",
    "'si'.encode() # por defecto es UTF8"
   ]
  },
  {
   "cell_type": "code",
   "execution_count": 19,
   "id": "6f76b955",
   "metadata": {},
   "outputs": [
    {
     "data": {
      "text/plain": [
       "'Sĭ'"
      ]
     },
     "execution_count": 19,
     "metadata": {},
     "output_type": "execute_result"
    }
   ],
   "source": [
    "# pasar de cadena de bytes a cadena de texto\n",
    "# constructor de la clase string\n",
    "\n",
    "str(b'S\\xc4\\xad', encoding = 'UTF8')"
   ]
  },
  {
   "cell_type": "code",
   "execution_count": 20,
   "id": "00821ab1",
   "metadata": {},
   "outputs": [
    {
     "data": {
      "text/plain": [
       "'Sí'"
      ]
     },
     "execution_count": 20,
     "metadata": {},
     "output_type": "execute_result"
    }
   ],
   "source": [
    "b'S\\xc3\\xad'.decode()"
   ]
  },
  {
   "cell_type": "code",
   "execution_count": null,
   "id": "7d8a6f6d",
   "metadata": {},
   "outputs": [],
   "source": [
    "Alumnos = [[1, 'Montserrat Cuevas López'.encode(), 9],\n",
    "           [2, 'Imelda Run Montes Martín'.encode(), 6.5],\n",
    "           [3, 'Oriol Jiménez Garrich'.encode(), 4.01],\n",
    "]\n",
    "    \n"
   ]
  },
  {
   "cell_type": "code",
   "execution_count": 24,
   "id": "f66fc737",
   "metadata": {},
   "outputs": [],
   "source": [
    "formato = '<I120sf' # portable little endian"
   ]
  },
  {
   "cell_type": "code",
   "execution_count": 25,
   "id": "93961228",
   "metadata": {},
   "outputs": [],
   "source": [
    "with open('alumnes.bin', 'wb') as fpAlumnes:\n",
    "    for alumne in Alumnos:\n",
    "        datos = st.pack(formato, *alumne)\n",
    "        fpAlumnes.write(datos)"
   ]
  },
  {
   "cell_type": "code",
   "execution_count": 27,
   "id": "d9dbcb77",
   "metadata": {},
   "outputs": [],
   "source": [
    "with open('alumnes.bin', 'rb') as fpAlumnes:\n",
    "    alumnos = []\n",
    "    while (datos := fpAlumnes.read(st.calcsize(formato))):\n",
    "        alumnos.append(st.unpack(formato, datos))"
   ]
  },
  {
   "cell_type": "code",
   "execution_count": 28,
   "id": "ad699e5a",
   "metadata": {},
   "outputs": [
    {
     "data": {
      "text/plain": [
       "[(1,\n",
       "  b'Montserrat Cuevas L\\xc3\\xb3pez\\x00\\x00\\x00\\x00\\x00\\x00\\x00\\x00\\x00\\x00\\x00\\x00\\x00\\x00\\x00\\x00\\x00\\x00\\x00\\x00\\x00\\x00\\x00\\x00\\x00\\x00\\x00\\x00\\x00\\x00\\x00\\x00\\x00\\x00\\x00\\x00\\x00\\x00\\x00\\x00\\x00\\x00\\x00\\x00\\x00\\x00\\x00\\x00\\x00\\x00\\x00\\x00\\x00\\x00\\x00\\x00\\x00\\x00\\x00\\x00\\x00\\x00\\x00\\x00\\x00\\x00\\x00\\x00\\x00\\x00\\x00\\x00\\x00\\x00\\x00\\x00\\x00\\x00\\x00\\x00\\x00\\x00\\x00\\x00\\x00\\x00\\x00\\x00\\x00\\x00\\x00\\x00\\x00\\x00\\x00\\x00',\n",
       "  9.0),\n",
       " (2,\n",
       "  b'Imelda Run Montes Mart\\xc3\\xadn\\x00\\x00\\x00\\x00\\x00\\x00\\x00\\x00\\x00\\x00\\x00\\x00\\x00\\x00\\x00\\x00\\x00\\x00\\x00\\x00\\x00\\x00\\x00\\x00\\x00\\x00\\x00\\x00\\x00\\x00\\x00\\x00\\x00\\x00\\x00\\x00\\x00\\x00\\x00\\x00\\x00\\x00\\x00\\x00\\x00\\x00\\x00\\x00\\x00\\x00\\x00\\x00\\x00\\x00\\x00\\x00\\x00\\x00\\x00\\x00\\x00\\x00\\x00\\x00\\x00\\x00\\x00\\x00\\x00\\x00\\x00\\x00\\x00\\x00\\x00\\x00\\x00\\x00\\x00\\x00\\x00\\x00\\x00\\x00\\x00\\x00\\x00\\x00\\x00\\x00\\x00\\x00\\x00\\x00\\x00',\n",
       "  6.0),\n",
       " (3,\n",
       "  b'Oriol Jim\\xc3\\xa9nez Garrich\\x00\\x00\\x00\\x00\\x00\\x00\\x00\\x00\\x00\\x00\\x00\\x00\\x00\\x00\\x00\\x00\\x00\\x00\\x00\\x00\\x00\\x00\\x00\\x00\\x00\\x00\\x00\\x00\\x00\\x00\\x00\\x00\\x00\\x00\\x00\\x00\\x00\\x00\\x00\\x00\\x00\\x00\\x00\\x00\\x00\\x00\\x00\\x00\\x00\\x00\\x00\\x00\\x00\\x00\\x00\\x00\\x00\\x00\\x00\\x00\\x00\\x00\\x00\\x00\\x00\\x00\\x00\\x00\\x00\\x00\\x00\\x00\\x00\\x00\\x00\\x00\\x00\\x00\\x00\\x00\\x00\\x00\\x00\\x00\\x00\\x00\\x00\\x00\\x00\\x00\\x00\\x00\\x00\\x00\\x00\\x00\\x00\\x00',\n",
       "  4.0)]"
      ]
     },
     "execution_count": 28,
     "metadata": {},
     "output_type": "execute_result"
    }
   ],
   "source": [
    "alumnos"
   ]
  },
  {
   "cell_type": "code",
   "execution_count": 29,
   "id": "248959a3",
   "metadata": {},
   "outputs": [],
   "source": [
    "with open('alumnes.bin', 'rb') as fpAlumnes:\n",
    "    alumnos = []\n",
    "    while (datos := fpAlumnes.read(st.calcsize(formato))):\n",
    "        alumno = st.unpack(formato, datos)\n",
    "        alumnos.append([alumno[0],alumno[1].decode(), alumno[2]])"
   ]
  },
  {
   "cell_type": "code",
   "execution_count": 30,
   "id": "e8096da7",
   "metadata": {},
   "outputs": [
    {
     "data": {
      "text/plain": [
       "[[1,\n",
       "  'Montserrat Cuevas López\\x00\\x00\\x00\\x00\\x00\\x00\\x00\\x00\\x00\\x00\\x00\\x00\\x00\\x00\\x00\\x00\\x00\\x00\\x00\\x00\\x00\\x00\\x00\\x00\\x00\\x00\\x00\\x00\\x00\\x00\\x00\\x00\\x00\\x00\\x00\\x00\\x00\\x00\\x00\\x00\\x00\\x00\\x00\\x00\\x00\\x00\\x00\\x00\\x00\\x00\\x00\\x00\\x00\\x00\\x00\\x00\\x00\\x00\\x00\\x00\\x00\\x00\\x00\\x00\\x00\\x00\\x00\\x00\\x00\\x00\\x00\\x00\\x00\\x00\\x00\\x00\\x00\\x00\\x00\\x00\\x00\\x00\\x00\\x00\\x00\\x00\\x00\\x00\\x00\\x00\\x00\\x00\\x00\\x00\\x00\\x00',\n",
       "  9.0],\n",
       " [2,\n",
       "  'Imelda Run Montes Martín\\x00\\x00\\x00\\x00\\x00\\x00\\x00\\x00\\x00\\x00\\x00\\x00\\x00\\x00\\x00\\x00\\x00\\x00\\x00\\x00\\x00\\x00\\x00\\x00\\x00\\x00\\x00\\x00\\x00\\x00\\x00\\x00\\x00\\x00\\x00\\x00\\x00\\x00\\x00\\x00\\x00\\x00\\x00\\x00\\x00\\x00\\x00\\x00\\x00\\x00\\x00\\x00\\x00\\x00\\x00\\x00\\x00\\x00\\x00\\x00\\x00\\x00\\x00\\x00\\x00\\x00\\x00\\x00\\x00\\x00\\x00\\x00\\x00\\x00\\x00\\x00\\x00\\x00\\x00\\x00\\x00\\x00\\x00\\x00\\x00\\x00\\x00\\x00\\x00\\x00\\x00\\x00\\x00\\x00\\x00',\n",
       "  6.0],\n",
       " [3,\n",
       "  'Oriol Jiménez Garrich\\x00\\x00\\x00\\x00\\x00\\x00\\x00\\x00\\x00\\x00\\x00\\x00\\x00\\x00\\x00\\x00\\x00\\x00\\x00\\x00\\x00\\x00\\x00\\x00\\x00\\x00\\x00\\x00\\x00\\x00\\x00\\x00\\x00\\x00\\x00\\x00\\x00\\x00\\x00\\x00\\x00\\x00\\x00\\x00\\x00\\x00\\x00\\x00\\x00\\x00\\x00\\x00\\x00\\x00\\x00\\x00\\x00\\x00\\x00\\x00\\x00\\x00\\x00\\x00\\x00\\x00\\x00\\x00\\x00\\x00\\x00\\x00\\x00\\x00\\x00\\x00\\x00\\x00\\x00\\x00\\x00\\x00\\x00\\x00\\x00\\x00\\x00\\x00\\x00\\x00\\x00\\x00\\x00\\x00\\x00\\x00\\x00\\x00',\n",
       "  4.0]]"
      ]
     },
     "execution_count": 30,
     "metadata": {},
     "output_type": "execute_result"
    }
   ],
   "source": [
    "alumnos"
   ]
  },
  {
   "cell_type": "code",
   "execution_count": null,
   "id": "008f4a5e",
   "metadata": {},
   "outputs": [],
   "source": []
  }
 ],
 "metadata": {
  "kernelspec": {
   "display_name": "Python 3",
   "language": "python",
   "name": "python3"
  },
  "language_info": {
   "codemirror_mode": {
    "name": "ipython",
    "version": 3
   },
   "file_extension": ".py",
   "mimetype": "text/x-python",
   "name": "python",
   "nbconvert_exporter": "python",
   "pygments_lexer": "ipython3",
   "version": "3.10.12"
  }
 },
 "nbformat": 4,
 "nbformat_minor": 5
}
