{
 "cells": [
  {
   "cell_type": "markdown",
   "metadata": {},
   "source": [
    "# Programacion imperativa y declarativa\n",
    "---\n",
    "\n",
    "### Programacion imperativa\n",
    "La programacion imperativa es un estilo de programacion que se enfoca en la secuencia de operaciones que se deben realizar para alcanzar un resultado. Se basa en la idea de que el programa debe especificar paso a paso lo que debe hacerse para resolver un problema. El programador debe escribir el código que describe cada paso que se debe realizar.\n",
    "**La programacion imperativa se enfoca en la secuencia de operaciones y en la manipulacion de variables.**\n",
    "\n",
    "Ejemplos de programacion imperativa:\n",
    "- Bucle for\n",
    "- Bucle while\n",
    "- Sentencias if-else\n",
    "- Asignacion de variables\n",
    "- Operaciones aritmeticas\n",
    "- Operaciones de control de flujo\n",
    "\n",
    "\n",
    "### Programacion declarativa\n",
    "La programacion declarativa es un estilo de programacion que se enfoca en la especificacion de lo que se quiere lograr, en lugar de especificar paso a paso cómo lograrlo. Se basa en la idea de que el programa debe describir el resultado deseado, y el lenguaje de programacion debe encontrar la forma de alcanzar ese resultado.\n",
    "**La programacion declarativa se enfoca en la especificacion del resultado deseado, en lugar de la secuencia de operaciones.**\n",
    "\n",
    "Ejemplos de programacion declarativa:\n",
    "- Consultas SQL\n",
    "- Programacion funcional\n",
    "- Programacion logica\n",
    "- Programacion de reglas\n",
    "- Programacion de objetos\n",
    "\n",
    "> **En un lenguage donde A y B siempre da C, para que carajo quieres saber cuanto vale C - Albino**\n",
    "\n",
    "En lenguajes declarativos (programacion funcional), las operaciones que en lenguages imperativos tardarian una eternidad, son immediatas, ya que su resultado siempre serà el mismo, con lo qual no hace falta calcularlo (A y B **siempre** valdrà C). Por el contrario, operaciones muy rapidas en imperativos tardan muchisimo en declarativos (por ejemplo un `print()`).\n",
    "\n",
    "En programacion funcional no existen realmente las variables (esto varia segun el lenguage), tampoco existen los bucles. Estos se substituyen con llamadas recursivas al valor.\n",
    "\n",
    "Por el contrario, en Python todo son objetos, al contrario de la programacion funcional. Ahun asi, existe la programacion funcional em Python. Este aplica la **\"ejecucion perezosa\"**, que se basa en ejecutar únicamente las partes del codigo que son necesarias en el momento. Si tenemos una operacion declarada, esta no se calcula immediatamente, sino que se calcula cuando **es necesario conocer el resultado** de esa operacion. Por ejemplo:\n",
    "\n",
    "```python\n",
    "a = 1\n",
    "b = 3\n",
    "c = a + b\n",
    "\n",
    "print(c)\n",
    "```\n",
    "Aqui el valor de `c` no se calcula hasta que no se requiere en el `print()`. Esto permite optimizar el uso de memoria, ya que no necesitamos almacenar valores que pueden ser muy grandes pero que podemos no necesitar.\n",
    "\n",
    "## Programacion funcional en Python\n",
    "\n",
    "- Clases iterables"
   ]
  },
  {
   "cell_type": "code",
   "execution_count": 3,
   "metadata": {},
   "outputs": [
    {
     "name": "stdout",
     "output_type": "stream",
     "text": [
      "0\n"
     ]
    }
   ],
   "source": [
    "# Clases iterables\n",
    "class Clase:\n",
    "    def __init__(self):\n",
    "        self.value = 0\n",
    "    \n",
    "    def incrementa(self):\n",
    "        self.value += 1\n",
    "        print(self)\n",
    "\n",
    "    def __str__(self):\n",
    "        return f\"{self.value}\"\n",
    "    \n",
    "object = Clase()\n",
    "\n",
    "print(object)"
   ]
  },
  {
   "cell_type": "code",
   "execution_count": 4,
   "metadata": {},
   "outputs": [
    {
     "name": "stdout",
     "output_type": "stream",
     "text": [
      "1\n"
     ]
    }
   ],
   "source": [
    "object.incrementa()"
   ]
  },
  {
   "cell_type": "code",
   "execution_count": 5,
   "metadata": {},
   "outputs": [
    {
     "name": "stdout",
     "output_type": "stream",
     "text": [
      "2\n"
     ]
    }
   ],
   "source": [
    "object.incrementa()"
   ]
  },
  {
   "cell_type": "code",
   "execution_count": null,
   "metadata": {},
   "outputs": [
    {
     "ename": "TypeError",
     "evalue": "'Clase' object is not iterable",
     "output_type": "error",
     "traceback": [
      "\u001b[0;31m---------------------------------------------------------------------------\u001b[0m",
      "\u001b[0;31mTypeError\u001b[0m                                 Traceback (most recent call last)",
      "\u001b[0;32m/tmp/ipykernel_14424/1062521597.py\u001b[0m in \u001b[0;36m<module>\u001b[0;34m\u001b[0m\n\u001b[0;32m----> 1\u001b[0;31m \u001b[0;32mfor\u001b[0m \u001b[0mo\u001b[0m \u001b[0;32min\u001b[0m \u001b[0mobject\u001b[0m\u001b[0;34m:\u001b[0m\u001b[0;34m\u001b[0m\u001b[0;34m\u001b[0m\u001b[0m\n\u001b[0m\u001b[1;32m      2\u001b[0m     \u001b[0mprint\u001b[0m\u001b[0;34m(\u001b[0m\u001b[0mo\u001b[0m\u001b[0;34m)\u001b[0m\u001b[0;34m\u001b[0m\u001b[0;34m\u001b[0m\u001b[0m\n",
      "\u001b[0;31mTypeError\u001b[0m: 'Clase' object is not iterable"
     ]
    }
   ],
   "source": [
    "for o in object: # Falta el metodo __iter__ para que sea iterable\n",
    "    print(o)"
   ]
  },
  {
   "cell_type": "code",
   "execution_count": 16,
   "metadata": {},
   "outputs": [],
   "source": [
    "class Clase:\n",
    "    def __init__(self):\n",
    "        self.value = 0\n",
    "    \n",
    "    def incrementa(self):\n",
    "        self.value += 1\n",
    "\n",
    "    def __str__(self):\n",
    "        return f\"{self.value}\"\n",
    "    \n",
    "    def __iter__(self):\n",
    "        self.value = 0\n",
    "        return self\n",
    "    \n",
    "    def __next__(self):\n",
    "        self.incrementa()\n",
    "        if self.value > 17:\n",
    "            raise StopIteration\n",
    "        return self.value\n",
    "    \n",
    "object = Clase()"
   ]
  },
  {
   "cell_type": "code",
   "execution_count": 17,
   "metadata": {},
   "outputs": [
    {
     "data": {
      "text/plain": [
       "1"
      ]
     },
     "execution_count": 17,
     "metadata": {},
     "output_type": "execute_result"
    }
   ],
   "source": [
    "next(object)"
   ]
  },
  {
   "cell_type": "code",
   "execution_count": 18,
   "metadata": {},
   "outputs": [
    {
     "data": {
      "text/plain": [
       "2"
      ]
     },
     "execution_count": 18,
     "metadata": {},
     "output_type": "execute_result"
    }
   ],
   "source": [
    "next(object)"
   ]
  },
  {
   "cell_type": "code",
   "execution_count": 19,
   "metadata": {},
   "outputs": [
    {
     "name": "stdout",
     "output_type": "stream",
     "text": [
      "1\n",
      "2\n",
      "3\n",
      "4\n",
      "5\n",
      "6\n",
      "7\n",
      "8\n",
      "9\n",
      "10\n",
      "11\n",
      "12\n",
      "13\n",
      "14\n",
      "15\n",
      "16\n",
      "17\n"
     ]
    }
   ],
   "source": [
    "for o in object:\n",
    "    print(o)"
   ]
  },
  {
   "cell_type": "markdown",
   "metadata": {},
   "source": [
    "- Clases generadores\n",
    "\n",
    "    Son funciones que tienen `return` y `yeld`"
   ]
  },
  {
   "cell_type": "code",
   "execution_count": 23,
   "metadata": {},
   "outputs": [],
   "source": [
    "def generator():\n",
    "    valor = 0\n",
    "    while True:\n",
    "        valor += 8\n",
    "        yield valor\n",
    "\n",
    "g = generator()"
   ]
  },
  {
   "cell_type": "code",
   "execution_count": 24,
   "metadata": {},
   "outputs": [
    {
     "data": {
      "text/plain": [
       "<generator object generator at 0x7f38c959df50>"
      ]
     },
     "execution_count": 24,
     "metadata": {},
     "output_type": "execute_result"
    }
   ],
   "source": [
    "g"
   ]
  },
  {
   "cell_type": "code",
   "execution_count": 25,
   "metadata": {},
   "outputs": [
    {
     "data": {
      "text/plain": [
       "8"
      ]
     },
     "execution_count": 25,
     "metadata": {},
     "output_type": "execute_result"
    }
   ],
   "source": [
    "next(g)"
   ]
  },
  {
   "cell_type": "code",
   "execution_count": 27,
   "metadata": {},
   "outputs": [],
   "source": [
    "def generator():\n",
    "    valor = 0\n",
    "    while True:\n",
    "        valor += 8\n",
    "        yield valor\n",
    "        if valor > 50:\n",
    "            return\n",
    "\n",
    "g = generator()"
   ]
  },
  {
   "cell_type": "code",
   "execution_count": 28,
   "metadata": {},
   "outputs": [
    {
     "data": {
      "text/plain": [
       "8"
      ]
     },
     "execution_count": 28,
     "metadata": {},
     "output_type": "execute_result"
    }
   ],
   "source": [
    "next(g)"
   ]
  },
  {
   "cell_type": "code",
   "execution_count": 29,
   "metadata": {},
   "outputs": [
    {
     "data": {
      "text/plain": [
       "16"
      ]
     },
     "execution_count": 29,
     "metadata": {},
     "output_type": "execute_result"
    }
   ],
   "source": [
    "next(g)"
   ]
  },
  {
   "cell_type": "code",
   "execution_count": 31,
   "metadata": {},
   "outputs": [
    {
     "name": "stdout",
     "output_type": "stream",
     "text": [
      "8\n",
      "16\n",
      "24\n",
      "32\n",
      "40\n",
      "48\n",
      "56\n"
     ]
    }
   ],
   "source": [
    "g = generator()\n",
    "\n",
    "for o in g:\n",
    "    print(o)"
   ]
  },
  {
   "cell_type": "markdown",
   "metadata": {},
   "source": [
    "Mientras se encuentre con yelds, seguirà iterando, hasta que se encuentre con un return.\n",
    "\n",
    "- Funciones anonimas\n",
    "\n",
    "    Sirven como argumento de otras funciones"
   ]
  },
  {
   "cell_type": "code",
   "execution_count": 32,
   "metadata": {},
   "outputs": [
    {
     "data": {
      "text/plain": [
       "<function __main__.<lambda>(x, y, z)>"
      ]
     },
     "execution_count": 32,
     "metadata": {},
     "output_type": "execute_result"
    }
   ],
   "source": [
    "lambda x, y, z: x + y + z"
   ]
  },
  {
   "cell_type": "code",
   "execution_count": 33,
   "metadata": {},
   "outputs": [],
   "source": [
    "suma_3 = lambda x, y, z: x + y + z"
   ]
  },
  {
   "cell_type": "code",
   "execution_count": 34,
   "metadata": {},
   "outputs": [
    {
     "data": {
      "text/plain": [
       "14"
      ]
     },
     "execution_count": 34,
     "metadata": {},
     "output_type": "execute_result"
    }
   ],
   "source": [
    "suma_3(3, 5, 6)"
   ]
  },
  {
   "cell_type": "code",
   "execution_count": 2,
   "metadata": {},
   "outputs": [],
   "source": [
    "# La santisima trinidad de la programacion: map(), filter() y reduce()\n",
    "# map() aplica una funcion a uno o mas iterables\n",
    "\n",
    "suma = map(int.__add__, range(10), range(0, 20, 2))"
   ]
  },
  {
   "cell_type": "code",
   "execution_count": 3,
   "metadata": {},
   "outputs": [
    {
     "data": {
      "text/plain": [
       "0"
      ]
     },
     "execution_count": 3,
     "metadata": {},
     "output_type": "execute_result"
    }
   ],
   "source": [
    "next(suma)"
   ]
  },
  {
   "cell_type": "code",
   "execution_count": 7,
   "metadata": {},
   "outputs": [
    {
     "data": {
      "text/plain": [
       "12"
      ]
     },
     "execution_count": 7,
     "metadata": {},
     "output_type": "execute_result"
    }
   ],
   "source": [
    "next(suma)"
   ]
  },
  {
   "cell_type": "code",
   "execution_count": 9,
   "metadata": {},
   "outputs": [
    {
     "ename": "NameError",
     "evalue": "name 'suma_3' is not defined",
     "output_type": "error",
     "traceback": [
      "\u001b[0;31m---------------------------------------------------------------------------\u001b[0m",
      "\u001b[0;31mNameError\u001b[0m                                 Traceback (most recent call last)",
      "\u001b[0;32m/tmp/ipykernel_33594/575608585.py\u001b[0m in \u001b[0;36m<module>\u001b[0;34m\u001b[0m\n\u001b[0;32m----> 1\u001b[0;31m \u001b[0msuma\u001b[0m \u001b[0;34m=\u001b[0m \u001b[0mmap\u001b[0m\u001b[0;34m(\u001b[0m\u001b[0msuma_3\u001b[0m\u001b[0;34m,\u001b[0m \u001b[0mrange\u001b[0m\u001b[0;34m(\u001b[0m\u001b[0;36m10\u001b[0m\u001b[0;34m)\u001b[0m\u001b[0;34m,\u001b[0m \u001b[0mrange\u001b[0m\u001b[0;34m(\u001b[0m\u001b[0;36m0\u001b[0m\u001b[0;34m,\u001b[0m \u001b[0;36m20\u001b[0m\u001b[0;34m,\u001b[0m \u001b[0;36m2\u001b[0m\u001b[0;34m)\u001b[0m\u001b[0;34m,\u001b[0m \u001b[0mrange\u001b[0m\u001b[0;34m(\u001b[0m\u001b[0;36m0\u001b[0m\u001b[0;34m,\u001b[0m \u001b[0;36m30\u001b[0m\u001b[0;34m,\u001b[0m \u001b[0;36m3\u001b[0m\u001b[0;34m)\u001b[0m\u001b[0;34m)\u001b[0m\u001b[0;34m\u001b[0m\u001b[0;34m\u001b[0m\u001b[0m\n\u001b[0m",
      "\u001b[0;31mNameError\u001b[0m: name 'suma_3' is not defined"
     ]
    }
   ],
   "source": [
    "suma = map(suma_3, range(10), range(0, 20, 2), range(0, 30, 3))"
   ]
  },
  {
   "cell_type": "code",
   "execution_count": 1,
   "metadata": {},
   "outputs": [],
   "source": [
    "primos = (numero for numero in range(0, 999999999999) if esPrimo(numero))"
   ]
  },
  {
   "cell_type": "code",
   "execution_count": 12,
   "metadata": {},
   "outputs": [],
   "source": [
    "from itertools import count\n",
    "\n",
    "primos = (numero for numero in count() if esPrimo(numero))"
   ]
  },
  {
   "cell_type": "markdown",
   "metadata": {},
   "source": [
    "### Funciones de orden suerior\n",
    "\n",
    "Toma como argumento otra funcion o como valor de salida, por ejemplo la funcion `map()`."
   ]
  },
  {
   "cell_type": "code",
   "execution_count": 20,
   "metadata": {},
   "outputs": [],
   "source": [
    "nombres = ['Montserrat', 'Martí', 'Tomas', 'Josep']\n",
    "apellidos = ['Cuevas', 'Dominguez', 'Lloret', 'Esquerrà']\n",
    "iden = [12554, 69420, 54321, 10101]\n",
    "\n",
    "alumnos = map(print, nombres, apellidos, iden)"
   ]
  },
  {
   "cell_type": "code",
   "execution_count": 21,
   "metadata": {},
   "outputs": [
    {
     "name": "stdout",
     "output_type": "stream",
     "text": [
      "Montserrat Cuevas 12554\n"
     ]
    }
   ],
   "source": [
    "next(alumnos)"
   ]
  },
  {
   "cell_type": "code",
   "execution_count": 22,
   "metadata": {},
   "outputs": [],
   "source": [
    "numeros = ['cero', 'uno', 'dos', 'tres']"
   ]
  },
  {
   "cell_type": "code",
   "execution_count": 23,
   "metadata": {},
   "outputs": [],
   "source": [
    "NUMEROS = map(lambda s: s.upper(), numeros)"
   ]
  },
  {
   "cell_type": "code",
   "execution_count": 24,
   "metadata": {},
   "outputs": [
    {
     "name": "stdout",
     "output_type": "stream",
     "text": [
      "CERO\n",
      "UNO\n",
      "DOS\n",
      "TRES\n"
     ]
    }
   ],
   "source": [
    "for numero in NUMEROS:\n",
    "    print(numero)"
   ]
  },
  {
   "cell_type": "markdown",
   "metadata": {},
   "source": [
    "- Filter()\n",
    "\n",
    "    Funcion iterable que toma sus salidas como True o False, si es True, se mostrarà or pantalla, en caso de ser False, no mostrarà nada."
   ]
  },
  {
   "cell_type": "code",
   "execution_count": 35,
   "metadata": {},
   "outputs": [],
   "source": [
    "quintos = filter(lambda x: not x%5, range(40))"
   ]
  },
  {
   "cell_type": "code",
   "execution_count": 38,
   "metadata": {},
   "outputs": [
    {
     "data": {
      "text/plain": [
       "10"
      ]
     },
     "execution_count": 38,
     "metadata": {},
     "output_type": "execute_result"
    }
   ],
   "source": [
    "next(quintos)"
   ]
  },
  {
   "cell_type": "code",
   "execution_count": 39,
   "metadata": {},
   "outputs": [
    {
     "name": "stdout",
     "output_type": "stream",
     "text": [
      "15\n",
      "20\n",
      "25\n",
      "30\n",
      "35\n"
     ]
    }
   ],
   "source": [
    "for numero in quintos:\n",
    "    print(numero)"
   ]
  },
  {
   "cell_type": "code",
   "execution_count": 40,
   "metadata": {},
   "outputs": [
    {
     "name": "stdout",
     "output_type": "stream",
     "text": [
      "0\n",
      "5\n",
      "10\n",
      "15\n",
      "20\n",
      "25\n",
      "30\n",
      "35\n"
     ]
    }
   ],
   "source": [
    "quintos = (x for x in range(40) if not x%5)\n",
    "\n",
    "for numero in quintos:\n",
    "    print(numero)"
   ]
  },
  {
   "cell_type": "markdown",
   "metadata": {},
   "source": [
    "Finalmente tenemos el ultimo miembro de *la santisima trinidad de la programacion funcional*: la función `reduce()`\n",
    "\n",
    "Esta aplica la funcion a los dos primeros elementos de la funcion, y luego... (Albino habla muy rapido y yo escribo muy lento...)"
   ]
  },
  {
   "cell_type": "code",
   "execution_count": 41,
   "metadata": {},
   "outputs": [
    {
     "data": {
      "text/plain": [
       "3628800"
      ]
     },
     "execution_count": 41,
     "metadata": {},
     "output_type": "execute_result"
    }
   ],
   "source": [
    "from functools import reduce\n",
    "\n",
    "def factorial(n):\n",
    "    \"\"\"Compute the factorial of n\"\"\"\n",
    "    return reduce(lambda x, y: x*y, range(2, n+1))\n",
    "\n",
    "factorial(10)"
   ]
  },
  {
   "cell_type": "code",
   "execution_count": 43,
   "metadata": {},
   "outputs": [
    {
     "name": "stdout",
     "output_type": "stream",
     "text": [
      "2! = 2\n",
      "3! = 6\n",
      "4! = 24\n",
      "5! = 120\n",
      "6! = 720\n",
      "7! = 5040\n",
      "8! = 40320\n",
      "9! = 362880\n"
     ]
    }
   ],
   "source": [
    "for n in range(2, 10):\n",
    "    print(f'{n}! = {factorial(n)}')"
   ]
  },
  {
   "cell_type": "markdown",
   "metadata": {},
   "source": [
    "## Ordenación \n",
    "\n",
    "### Sorted\n",
    "\n",
    "La función `sorted()` devuelve una nueva lista ordenada a partir de los elementos de cualquier secuencia."
   ]
  },
  {
   "cell_type": "code",
   "execution_count": 45,
   "metadata": {},
   "outputs": [
    {
     "data": {
      "text/plain": [
       "['cero', 'dos', 'tres', 'uno']"
      ]
     },
     "execution_count": 45,
     "metadata": {},
     "output_type": "execute_result"
    }
   ],
   "source": [
    "sorted(numeros) # Al ser cadenas de texto los ordena alfabeticamente"
   ]
  },
  {
   "cell_type": "markdown",
   "metadata": {},
   "source": [
    "Podemos modificar el comportamiento con dos parablas clave:\n",
    "- `reverse`\n",
    "\n",
    "    Por defecto es False, si se establece en True, el orden de los elementos en la lista se invierte.\n",
    "    \n",
    "- `key` \n",
    "\n",
    "    Debe ser una funcion que \n",
    "    "
   ]
  },
  {
   "cell_type": "code",
   "execution_count": 46,
   "metadata": {},
   "outputs": [
    {
     "data": {
      "text/plain": [
       "['uno', 'cero', 'tres', 'dos']"
      ]
     },
     "execution_count": 46,
     "metadata": {},
     "output_type": "execute_result"
    }
   ],
   "source": [
    "sorted(numeros, key = lambda s: s[::-1])"
   ]
  },
  {
   "cell_type": "code",
   "execution_count": 47,
   "metadata": {},
   "outputs": [],
   "source": [
    "class alumno:\n",
    "    def __init__(self, nombre, apellido, nota):\n",
    "        self.nombre, self.apellido, self.nota = nombre, apellido, nota\n",
    "    \n",
    "    def __str__(self):\n",
    "        return f\"{self.nombre} {self.apellido} - {self.nota}\"\n",
    "    \n",
    "    __repr__ = __str__"
   ]
  },
  {
   "cell_type": "code",
   "execution_count": 48,
   "metadata": {},
   "outputs": [],
   "source": [
    "alumnos = [alumno('Tomas', 'Lloret', 5), alumno('Mark', 'Bonete', 10)]"
   ]
  },
  {
   "cell_type": "code",
   "execution_count": 49,
   "metadata": {},
   "outputs": [
    {
     "data": {
      "text/plain": [
       "[Tomas Lloret - 5, Mark Bonete - 10]"
      ]
     },
     "execution_count": 49,
     "metadata": {},
     "output_type": "execute_result"
    }
   ],
   "source": [
    "sorted(alumnos, key = lambda x: x.nota)"
   ]
  },
  {
   "cell_type": "markdown",
   "metadata": {},
   "source": [
    "### Invocacion de un objeto como funcion:\n",
    "\n",
    "Cuando invocas a un objeto de la funcion utilizamos el metodo __call__. por lo tanto tenemos que implementarlo."
   ]
  },
  {
   "cell_type": "code",
   "execution_count": 60,
   "metadata": {},
   "outputs": [],
   "source": [
    "class alumno:\n",
    "    def __init__(self, nombre, apellido, nota):\n",
    "        self.nombre, self.apellido, self.nota = nombre, apellido, nota\n",
    "    \n",
    "    def __str__(self):\n",
    "        return f\"{self.nombre} {self.apellido} - {self.nota}\"\n",
    "    \n",
    "    __repr__ = __str__\n",
    "\n",
    "    def __call__(self, nota):\n",
    "        self.nota = nota"
   ]
  },
  {
   "cell_type": "code",
   "execution_count": 64,
   "metadata": {},
   "outputs": [
    {
     "data": {
      "text/plain": [
       "[Tomas Lloret - 5, Mark Bonete - 10]"
      ]
     },
     "execution_count": 64,
     "metadata": {},
     "output_type": "execute_result"
    }
   ],
   "source": [
    "alumnos = [alumno('Tomas', 'Lloret', 5), alumno('Mark', 'Bonete', 10)]\n",
    "sorted(alumnos, key = lambda x: x.nota)"
   ]
  },
  {
   "cell_type": "code",
   "execution_count": 65,
   "metadata": {},
   "outputs": [
    {
     "data": {
      "text/plain": [
       "Mark Bonete - 4"
      ]
     },
     "execution_count": 65,
     "metadata": {},
     "output_type": "execute_result"
    }
   ],
   "source": [
    "alumnos[1](4)\n",
    "alumnos[1]"
   ]
  },
  {
   "cell_type": "markdown",
   "metadata": {},
   "source": [
    "### Otros metodos interesantes\n",
    "\n",
    "`.__getatribute__(\")` nombre del atributo que quieres obtener."
   ]
  },
  {
   "cell_type": "code",
   "execution_count": 66,
   "metadata": {},
   "outputs": [
    {
     "data": {
      "text/plain": [
       "4"
      ]
     },
     "execution_count": 66,
     "metadata": {},
     "output_type": "execute_result"
    }
   ],
   "source": [
    "alumnos[1].__getattribute__(\"nota\")"
   ]
  },
  {
   "cell_type": "code",
   "execution_count": 69,
   "metadata": {},
   "outputs": [
    {
     "name": "stdout",
     "output_type": "stream",
     "text": [
      "\n",
      "\n",
      "\n",
      "\n"
     ]
    }
   ],
   "source": [
    "def ordenaAtributo(objetos, clave):\n",
    "    return sorted(objetos, key = lambda objeto: objeto.__getattribute__(clave))\n",
    "\n",
    "ordenaAtributo(alumnos, \"nota\")\n",
    "print(\"\\n\")\n",
    "ordenaAtributo(alumnos, \"nombre\")\n",
    "print(\"\\n\")"
   ]
  },
  {
   "cell_type": "code",
   "execution_count": 70,
   "metadata": {},
   "outputs": [
    {
     "data": {
      "text/plain": [
       "[Mark Bonete - 4, Tomas Lloret - 5]"
      ]
     },
     "execution_count": 70,
     "metadata": {},
     "output_type": "execute_result"
    }
   ],
   "source": [
    "ordenaAtributo(alumnos, \"nota\")"
   ]
  },
  {
   "cell_type": "markdown",
   "metadata": {},
   "source": [
    "### Decoracion de funciones\n",
    "\n",
    "Proporcionar un envoltorio bonito a la funcion.\n",
    "```python\n",
    "def decora(funcion):\n",
    "    def wrapper(*args, **dicc):\n",
    "        return funcio(*args, **dicc)\n",
    "    return wrapper\n",
    "\n",
    "```"
   ]
  },
  {
   "cell_type": "code",
   "execution_count": 61,
   "metadata": {},
   "outputs": [],
   "source": [
    "def decora(funcion):\n",
    "    def wrapper(*args, **dicc):\n",
    "        print('Pero que listo que soy: ')\n",
    "        return funcion(*args, **dicc)\n",
    "    return wrapper"
   ]
  },
  {
   "cell_type": "code",
   "execution_count": 62,
   "metadata": {},
   "outputs": [],
   "source": [
    "printa = decora(print)"
   ]
  },
  {
   "cell_type": "code",
   "execution_count": 63,
   "metadata": {},
   "outputs": [
    {
     "name": "stdout",
     "output_type": "stream",
     "text": [
      "Pero que listo que soy: \n",
      "1 2 3\n"
     ]
    }
   ],
   "source": [
    "printa(1, 2, 3)"
   ]
  }
 ],
 "metadata": {
  "kernelspec": {
   "display_name": "Python 3",
   "language": "python",
   "name": "python3"
  },
  "language_info": {
   "codemirror_mode": {
    "name": "ipython",
    "version": 3
   },
   "file_extension": ".py",
   "mimetype": "text/x-python",
   "name": "python",
   "nbconvert_exporter": "python",
   "pygments_lexer": "ipython3",
   "version": "3.10.12"
  }
 },
 "nbformat": 4,
 "nbformat_minor": 2
}
