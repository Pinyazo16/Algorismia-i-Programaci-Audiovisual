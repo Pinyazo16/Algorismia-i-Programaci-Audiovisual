{
 "cells": [
  {
   "cell_type": "markdown",
   "id": "0b2a4fb6",
   "metadata": {},
   "source": []
  },
  {
   "cell_type": "code",
   "execution_count": null,
   "id": "df9169b3",
   "metadata": {},
   "outputs": [],
   "source": [
    "# Programa que lee algunos de los campos de los ficheros .wav\n",
    "\n",
    "import struct as st\n",
    "import numpy as np\n",
    "\n",
    "def leeWave(fileWave):\n",
    "    with open(fileWave, 'rb') as fpWave:\n",
    "        formato = '<4s'\n",
    "        chunkID = fpWave.read(st.calcsize(formato))\n",
    "        if chunkID != b'RIFF':\n",
    "            raise Exception(f'El fichero {fileWave} no tiene formato RIFF.')\n",
    "        "
   ]
  },
  {
   "cell_type": "code",
   "execution_count": 2,
   "id": "3632bfc9",
   "metadata": {},
   "outputs": [
    {
     "ename": "Exception",
     "evalue": "El fichero Classe_07_05.ipynb no tiene formato RIFF.",
     "output_type": "error",
     "traceback": [
      "\u001b[0;31m---------------------------------------------------------------------------\u001b[0m",
      "\u001b[0;31mException\u001b[0m                                 Traceback (most recent call last)",
      "\u001b[0;32m/tmp/ipykernel_1321/1774029454.py\u001b[0m in \u001b[0;36m<module>\u001b[0;34m\u001b[0m\n\u001b[0;32m----> 1\u001b[0;31m \u001b[0mleeWave\u001b[0m\u001b[0;34m(\u001b[0m\u001b[0;34m'Classe_07_05.ipynb'\u001b[0m\u001b[0;34m)\u001b[0m\u001b[0;34m\u001b[0m\u001b[0;34m\u001b[0m\u001b[0m\n\u001b[0m",
      "\u001b[0;32m/tmp/ipykernel_1321/3816986775.py\u001b[0m in \u001b[0;36mleeWave\u001b[0;34m(fileWave)\u001b[0m\n\u001b[1;32m      9\u001b[0m         \u001b[0mchunkID\u001b[0m \u001b[0;34m=\u001b[0m \u001b[0mfpWave\u001b[0m\u001b[0;34m.\u001b[0m\u001b[0mread\u001b[0m\u001b[0;34m(\u001b[0m\u001b[0mst\u001b[0m\u001b[0;34m.\u001b[0m\u001b[0mcalcsize\u001b[0m\u001b[0;34m(\u001b[0m\u001b[0mformato\u001b[0m\u001b[0;34m)\u001b[0m\u001b[0;34m)\u001b[0m\u001b[0;34m\u001b[0m\u001b[0;34m\u001b[0m\u001b[0m\n\u001b[1;32m     10\u001b[0m         \u001b[0;32mif\u001b[0m \u001b[0mchunkID\u001b[0m \u001b[0;34m!=\u001b[0m \u001b[0;34mb'RIFF'\u001b[0m\u001b[0;34m:\u001b[0m\u001b[0;34m\u001b[0m\u001b[0;34m\u001b[0m\u001b[0m\n\u001b[0;32m---> 11\u001b[0;31m             \u001b[0;32mraise\u001b[0m \u001b[0mException\u001b[0m\u001b[0;34m(\u001b[0m\u001b[0;34mf'El fichero {fileWave} no tiene formato RIFF.'\u001b[0m\u001b[0;34m)\u001b[0m\u001b[0;34m\u001b[0m\u001b[0;34m\u001b[0m\u001b[0m\n\u001b[0m\u001b[1;32m     12\u001b[0m \u001b[0;34m\u001b[0m\u001b[0m\n",
      "\u001b[0;31mException\u001b[0m: El fichero Classe_07_05.ipynb no tiene formato RIFF."
     ]
    }
   ],
   "source": [
    "leeWave('Classe_07_05.ipynb')"
   ]
  },
  {
   "cell_type": "code",
   "execution_count": 7,
   "id": "c7c3a5f1",
   "metadata": {},
   "outputs": [],
   "source": [
    "# Programa que lee algunos de los campos de los ficheros .wav\n",
    "\n",
    "import struct as st\n",
    "import numpy as np\n",
    "\n",
    "def leeWave(fileWave):\n",
    "    with open(fileWave, 'rb') as fpWave:\n",
    "        formato = '<4sI4s'\n",
    "        datos = fpWave.read(st.calcsize(formato))\n",
    "        chunkID, chunkSize, formato = st.unpack(formato, datos)\n",
    "        if chunkID != b'RIFF' or formato != b'WAVE':\n",
    "            raise Exception(f'El fichero {fileWave} no tiene formato WAVE.')\n",
    "        print(f'El tamaño del fichero es {chunkSize + 8} bytes.')"
   ]
  },
  {
   "cell_type": "code",
   "execution_count": 8,
   "id": "8b22cd00",
   "metadata": {},
   "outputs": [
    {
     "name": "stdout",
     "output_type": "stream",
     "text": [
      "El tamaño del fichero es 190226 bytes.\n"
     ]
    }
   ],
   "source": [
    "leeWave('luzbel44.wav')"
   ]
  },
  {
   "cell_type": "code",
   "execution_count": 16,
   "id": "1118a039",
   "metadata": {},
   "outputs": [],
   "source": [
    "# Podemos forzar al puntero a ir a una posición concreta. \n",
    "\n",
    "import struct as st\n",
    "import numpy as np\n",
    "\n",
    "def leeWave(fileWave):\n",
    "    with open(fileWave, 'rb') as fpWave:\n",
    "        formato = '<4sI4s'\n",
    "        datos = fpWave.read(st.calcsize(formato))\n",
    "        chunkID, chunkSize, formato = st.unpack(formato, datos)\n",
    "        if chunkID != b'RIFF' or formato != b'WAVE':\n",
    "            raise Exception(f'El fichero {fileWave} no tiene formato WAVE.')\n",
    "        \n",
    "        fpWave.seek(36, 0) # Posición 36 desde el principio\n",
    "        formato = '<4sI'\n",
    "        datos = fpWave.read(st.calcsize(formato))\n",
    "        subChunk2ID, subChunk2Size = st.unpack(formato, datos)\n",
    "        nMostres = subChunk2Size // 2\n",
    "\n",
    "        formato = f'<{nMostres}h'\n",
    "        datos = fpWave.read(st.calcsize(formato))\n",
    "        mostres = st.unpack(formato, datos)\n",
    "    return np.array(mostres)\n",
    "\n"
   ]
  },
  {
   "cell_type": "code",
   "execution_count": 19,
   "id": "61d5038a",
   "metadata": {},
   "outputs": [],
   "source": [
    "algo = leeWave('luzbel44.wav')"
   ]
  },
  {
   "cell_type": "code",
   "execution_count": 20,
   "id": "aeaa7147",
   "metadata": {},
   "outputs": [
    {
     "data": {
      "text/plain": [
       "[<matplotlib.lines.Line2D at 0x7f5f1345e110>]"
      ]
     },
     "execution_count": 20,
     "metadata": {},
     "output_type": "execute_result"
    },
    {
     "data": {
      "image/png": "[encoded data removed]",
      "text/plain": [
       "<Figure size 432x288 with 1 Axes>"
      ]
     },
     "metadata": {
      "needs_background": "light"
     },
     "output_type": "display_data"
    }
   ],
   "source": [
    "import matplotlib.pyplot as plt\n",
    "\n",
    "plt.plot(algo)"
   ]
  },
  {
   "cell_type": "markdown",
   "id": "947df83f",
   "metadata": {},
   "source": [
    "# Expresiones regulares\n",
    "---\n",
    "Una expresion regular es una gramatica que describe cadenas de texto.\n",
    "\n",
    "Utilizaremos la biblioteca `re`"
   ]
  },
  {
   "cell_type": "code",
   "execution_count": 22,
   "id": "8a0e1579",
   "metadata": {},
   "outputs": [
    {
     "name": "stdout",
     "output_type": "stream",
     "text": [
      "25       Ramon Llobet Duch   7\n",
      "26       Mark Bonete Ventura   6\n",
      "32       Pol Alaminos Martorell   5\n"
     ]
    }
   ],
   "source": [
    "# leer el fichero alumnos.txt y extraer la información \n",
    "\n",
    "import struct as st\n",
    "\n",
    "with open('alumnos.txt', 'rt') as fpAlumnos:\n",
    "    for alumno in fpAlumnos:\n",
    "        # print(alumno)\n",
    "        # para eliminar espacios:\n",
    "        print(alumno.strip())"
   ]
  },
  {
   "cell_type": "code",
   "execution_count": null,
   "id": "d64a59f8",
   "metadata": {},
   "outputs": [
    {
     "data": {
      "text/plain": [
       "<re.Match object; span=(17, 34), match='Expresion regular'>"
      ]
     },
     "execution_count": 25,
     "metadata": {},
     "output_type": "execute_result"
    }
   ],
   "source": [
    "import re as re\n",
    "\n",
    "# re.search() # Localiza en la cadena la expresion regular y la devuelve si la encuentra\n",
    "# Argumentos:  'Cadena a localizar', 'Cadena en la que buscar' \n",
    "# re.match()  # Hace lo mismo que .search pero solo al principio de la cadena\n",
    "\n",
    "re.search('Expresion regular', 'El literal es la Expresion regular mas sencilla') # Solo funciona si encuentra coincidencias literales"
   ]
  },
  {
   "cell_type": "code",
   "execution_count": 26,
   "id": "edd22bad",
   "metadata": {},
   "outputs": [
    {
     "data": {
      "text/plain": [
       "<re.Match object; span=(17, 34), match='Expresion regular'>"
      ]
     },
     "execution_count": 26,
     "metadata": {},
     "output_type": "execute_result"
    }
   ],
   "source": [
    "# El punto '.' es cualquier caracter\n",
    "re.search('.xpresion regular', 'El literal es la Expresion regular mas sencilla')"
   ]
  },
  {
   "cell_type": "code",
   "execution_count": null,
   "id": "11ff795a",
   "metadata": {},
   "outputs": [],
   "source": [
    "# El circumflejo ^ indica que hay que buscar al principio de cadena \n",
    "re.search('^xpresion regular', 'El literal es la Expresion regular mas sencilla')"
   ]
  },
  {
   "cell_type": "code",
   "execution_count": 29,
   "id": "3d599b84",
   "metadata": {},
   "outputs": [
    {
     "data": {
      "text/plain": [
       "<re.Match object; span=(0, 10), match='El literal'>"
      ]
     },
     "execution_count": 29,
     "metadata": {},
     "output_type": "execute_result"
    }
   ],
   "source": [
    "re.search('^El literal', 'El literal es la Expresion regular mas sencilla')"
   ]
  },
  {
   "cell_type": "code",
   "execution_count": null,
   "id": "21f8eab2",
   "metadata": {},
   "outputs": [
    {
     "data": {
      "text/plain": [
       "<re.Match object; span=(17, 25), match='sencilla'>"
      ]
     },
     "execution_count": 33,
     "metadata": {},
     "output_type": "execute_result"
    }
   ],
   "source": [
    "# El $ indica final de la cadena (el ultimo caracter)\n",
    "re.search('sencilla$', 'Antes muerta que sencilla')"
   ]
  },
  {
   "cell_type": "code",
   "execution_count": 35,
   "id": "6a303965",
   "metadata": {},
   "outputs": [
    {
     "data": {
      "text/plain": [
       "<re.Match object; span=(17, 24), match='sencill'>"
      ]
     },
     "execution_count": 35,
     "metadata": {},
     "output_type": "execute_result"
    }
   ],
   "source": [
    "# el asterisco * permite repetir tantas veces como queramos el ultimo caracter (0 o màs repeticiones) \n",
    "# Para 1 o màs repeticiones seria con el signo +\n",
    "re.search('sencilla*','Antes muerta que sencillaaaaaaaaaaa')\n",
    "re.search('sencilla*','Antes muerta que sencill')"
   ]
  },
  {
   "cell_type": "code",
   "execution_count": null,
   "id": "48497e6f",
   "metadata": {},
   "outputs": [
    {
     "data": {
      "text/plain": [
       "<re.Match object; span=(17, 24), match='sencill'>"
      ]
     },
     "execution_count": 36,
     "metadata": {},
     "output_type": "execute_result"
    }
   ],
   "source": [
    "# El interrogante ? \n",
    "re.search('sencilla?$','Antes muerta que sencill')"
   ]
  },
  {
   "cell_type": "code",
   "execution_count": null,
   "id": "883f45f6",
   "metadata": {},
   "outputs": [],
   "source": [
    "# El intervalo dentro de la llave indica el numero de repeticiones permitido\n",
    "re.search('sencilla{3,5}$','Antes muerta que sencillaaaaa')"
   ]
  },
  {
   "cell_type": "markdown",
   "id": "1285294f",
   "metadata": {},
   "source": [
    "{m, n}\n",
    "\n",
    "* = { , }\n",
    "\n",
    "+ = {1, }\n",
    "\n",
    "? = {0,1}\n",
    "\n",
    "{n} = {n,n}"
   ]
  },
  {
   "cell_type": "code",
   "execution_count": null,
   "id": "9a4ea834",
   "metadata": {},
   "outputs": [
    {
     "data": {
      "text/plain": [
       "<re.Match object; span=(17, 25), match='sencillo'>"
      ]
     },
     "execution_count": 46,
     "metadata": {},
     "output_type": "execute_result"
    }
   ],
   "source": [
    "# Los caracteres entre corchetes permitiran cualquiera de las variaciones (solo los caracteres contenidos en [])\n",
    "re.search('sencill[aoi]','Antes muerta que sencillo')"
   ]
  },
  {
   "cell_type": "code",
   "execution_count": null,
   "id": "092e3bfe",
   "metadata": {},
   "outputs": [],
   "source": [
    "# Si usamos el circumflejo indicamos caracteres prohibidos\n",
    "# Los parentesis sirven para agrupar. \n",
    "# Otro caracter especial es | que permite elegir entre opciones \n",
    "# \\ elimina el significado especial (por ejemplo si queremos encontrar en la cadena un ? o un parentesis)"
   ]
  },
  {
   "cell_type": "code",
   "execution_count": 49,
   "id": "5095217d",
   "metadata": {},
   "outputs": [
    {
     "data": {
      "text/plain": [
       "<re.Match object; span=(0, 15), match='https:\\\\\\\\upc.edu'>"
      ]
     },
     "execution_count": 49,
     "metadata": {},
     "output_type": "execute_result"
    }
   ],
   "source": [
    "re.search('https:\\\\\\\\\\\\\\\\upc.edu', 'https:\\\\\\\\upc.edu\\\\eseiaat')"
   ]
  },
  {
   "cell_type": "code",
   "execution_count": 50,
   "id": "938c9d2c",
   "metadata": {},
   "outputs": [
    {
     "data": {
      "text/plain": [
       "<re.Match object; span=(0, 14), match='https:\\\\upc.edu'>"
      ]
     },
     "execution_count": 50,
     "metadata": {},
     "output_type": "execute_result"
    }
   ],
   "source": [
    "re.search(r'https:\\\\upc.edu', 'https:\\\\upc.edu\\eseiaat')"
   ]
  }
 ],
 "metadata": {
  "kernelspec": {
   "display_name": "Python 3",
   "language": "python",
   "name": "python3"
  },
  "language_info": {
   "codemirror_mode": {
    "name": "ipython",
    "version": 3
   },
   "file_extension": ".py",
   "mimetype": "text/x-python",
   "name": "python",
   "nbconvert_exporter": "python",
   "pygments_lexer": "ipython3",
   "version": "3.10.12"
  }
 },
 "nbformat": 4,
 "nbformat_minor": 5
}
