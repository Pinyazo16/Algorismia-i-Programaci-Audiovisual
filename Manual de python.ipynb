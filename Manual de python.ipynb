{
 "cells": [
  {
   "cell_type": "markdown",
   "id": "6061e928",
   "metadata": {},
   "source": [
    "# Breve historia de Python\n",
    "---\n",
    "\n",
    "Python fue diseñado por Guido van Rossum con el objetivo de ser un lenguaje *bonito*.\n",
    "Se trata de un lenguaje de alto nivel respaldado por sus abundantes bibliotecas:\n",
    "\n",
    "## Bibliotecas de Python\n",
    "Para nuestro uso de python, enfocado en el procesado de señales, las librerias màs importantes son las siguientes:\n",
    "- `numpy` y `scipy`, que nos proporcionan funcionalidades de càlculo numerico\n",
    "- `Matplotlib`, que nos prmite generar gràficas\n",
    "- `Soundfile` y `SoundDevice`, que permite la lectura, escritura, grabación y reproducción de señales de audio.\n",
    "\n",
    "La importación de estas librerias seria de la siguiente manera: "
   ]
  },
  {
   "cell_type": "code",
   "execution_count": 1,
   "id": "2f439ead",
   "metadata": {},
   "outputs": [],
   "source": [
    "import numpy as np\n",
    "import matplotlib as mp\n",
    "import soundfile as sf"
   ]
  },
  {
   "cell_type": "markdown",
   "id": "b49969dd",
   "metadata": {},
   "source": [
    "## Comandos basicos de Python\n",
    "- **Comentarios**: `#`\n",
    "- Los tipos de Python sirven como conversor de datos a ese tipo, por ejemplo, si queremos convertir un numero a entero, ejecutamos `int(3.75)`.\n",
    "- `round(x)`: Redondea al entero mas proximo. En caso de equidistancia, se toma el entero par màs cercano.\n",
    "- `min(x, ...)` y `min(x, ...)`: Devuelven el maximo o minimo de su o sus argumentos.\n",
    "- `abs(x)`: Devuelve el valor absoluto de numeros reales, enteros o en coma flotante. En caso de ser numeros complejos, devuelve su modulo.\n",
    "- `sum(x, ...)`: Devuelve la suma de su(s) argumentos.\n",
    "- `len(x)`: Devuelve la longitud de `x` siempre que este sea compuesto. \n",
    "- `print(x, ...)`: Muestra en pantalla la representacion textual de su(s) argumentos.\n",
    "- `input(s)`: Escribe el mensaje `s` por pantalla y espera a que el usuario introduzca por teclado una cadena de texto.\n",
    "\n",
    "## Operadores en Python\n",
    "- Asignacion: `=` Permite la asignacion de un nombre a un objeto.\n",
    "- Aritmeticos: `+` suma, `-` resta, `*` multiplicacion, `/` division real, `//` division entera.\n",
    "- `%` Resto de la division entera, u operador *modulo*.\n",
    "- `**` Exponencial\n",
    "- Binarios: `&` AND, `|` OR, `^` XOR"
   ]
  }
 ],
 "metadata": {
  "kernelspec": {
   "display_name": "Python 3",
   "language": "python",
   "name": "python3"
  },
  "language_info": {
   "codemirror_mode": {
    "name": "ipython",
    "version": 3
   },
   "file_extension": ".py",
   "mimetype": "text/x-python",
   "name": "python",
   "nbconvert_exporter": "python",
   "pygments_lexer": "ipython3",
   "version": "3.10.12"
  }
 },
 "nbformat": 4,
 "nbformat_minor": 5
}
