{
 "cells": [
  {
   "cell_type": "markdown",
   "id": "3b8edeb5",
   "metadata": {},
   "source": [
    "# Aplicaciones con interfaz gràfica (GUI)\n",
    "---\n",
    "\n",
    "La interfaz grafica de usiario (GUI) és bastante màs compleja de programar, y dicta como se escribe el programa. El programa principal obliga en cierto modo a programar en \"Top-to-bottom\".\n",
    "\n",
    "La libreria principal para programar en python és **tkinter**."
   ]
  },
  {
   "cell_type": "code",
   "execution_count": 1,
   "id": "709310d2",
   "metadata": {},
   "outputs": [
    {
     "name": "stdout",
     "output_type": "stream",
     "text": [
      "\u001b[0;31mSignature:\u001b[0m \u001b[0mmsg\u001b[0m\u001b[0;34m.\u001b[0m\u001b[0maskquestion\u001b[0m\u001b[0;34m(\u001b[0m\u001b[0mtitle\u001b[0m\u001b[0;34m=\u001b[0m\u001b[0;32mNone\u001b[0m\u001b[0;34m,\u001b[0m \u001b[0mmessage\u001b[0m\u001b[0;34m=\u001b[0m\u001b[0;32mNone\u001b[0m\u001b[0;34m,\u001b[0m \u001b[0;34m**\u001b[0m\u001b[0moptions\u001b[0m\u001b[0;34m)\u001b[0m\u001b[0;34m\u001b[0m\u001b[0;34m\u001b[0m\u001b[0m\n",
      "\u001b[0;31mDocstring:\u001b[0m Ask a question\n",
      "\u001b[0;31mFile:\u001b[0m      /usr/lib/python3.10/tkinter/messagebox.py\n",
      "\u001b[0;31mType:\u001b[0m      function\n"
     ]
    }
   ],
   "source": [
    "import tkinter as tk\n",
    "import tkinter.messagebox as msg\n",
    "\n",
    "msg.askquestion?"
   ]
  },
  {
   "cell_type": "code",
   "execution_count": null,
   "id": "e54e12f7",
   "metadata": {},
   "outputs": [
    {
     "data": {
      "text/plain": [
       "'yes'"
      ]
     },
     "execution_count": 3,
     "metadata": {},
     "output_type": "execute_result"
    }
   ],
   "source": [
    "import tkinter as tk\n",
    "import tkinter.messagebox as msg\n",
    "\n",
    "msg.askquestion()"
   ]
  },
  {
   "cell_type": "code",
   "execution_count": 5,
   "id": "9dbaa61a",
   "metadata": {},
   "outputs": [
    {
     "data": {
      "text/plain": [
       "True"
      ]
     },
     "execution_count": 5,
     "metadata": {},
     "output_type": "execute_result"
    }
   ],
   "source": [
    "resposta = msg.askquestion()\n",
    "resposta == msg.YES"
   ]
  },
  {
   "cell_type": "code",
   "execution_count": 6,
   "id": "950c3fba",
   "metadata": {},
   "outputs": [],
   "source": [
    "resposta = msg.askquestion(type=msg.OK)"
   ]
  },
  {
   "cell_type": "code",
   "execution_count": 7,
   "id": "16732bb4",
   "metadata": {},
   "outputs": [
    {
     "data": {
      "text/plain": [
       "'ok'"
      ]
     },
     "execution_count": 7,
     "metadata": {},
     "output_type": "execute_result"
    }
   ],
   "source": [
    "resposta"
   ]
  },
  {
   "cell_type": "code",
   "execution_count": 8,
   "id": "402d103d",
   "metadata": {},
   "outputs": [],
   "source": [
    "resporta = msg.askquestion(type=msg.ABORTRETRYIGNORE)"
   ]
  },
  {
   "cell_type": "code",
   "execution_count": 9,
   "id": "c2670185",
   "metadata": {},
   "outputs": [
    {
     "data": {
      "text/plain": [
       "'ok'"
      ]
     },
     "execution_count": 9,
     "metadata": {},
     "output_type": "execute_result"
    }
   ],
   "source": [
    "resposta"
   ]
  },
  {
   "cell_type": "code",
   "execution_count": 11,
   "id": "acc55880",
   "metadata": {},
   "outputs": [
    {
     "name": "stderr",
     "output_type": "stream",
     "text": [
      "can't invoke \"event\" command: application has been destroyed\n",
      "    while executing\n",
      "\"event generate $w <<ThemeChanged>>\"\n",
      "    (procedure \"ttk::ThemeChanged\" line 6)\n",
      "    invoked from within\n",
      "\"ttk::ThemeChanged\"\n"
     ]
    }
   ],
   "source": [
    "resporta = msg.askquestion(type=msg.OKCANCEL, title='Títol')"
   ]
  },
  {
   "cell_type": "code",
   "execution_count": 12,
   "id": "e5794b7a",
   "metadata": {},
   "outputs": [],
   "source": [
    "resporta = msg.askquestion(type=msg.OKCANCEL, title='Títol', message='Task failed successfuly')"
   ]
  },
  {
   "cell_type": "code",
   "execution_count": null,
   "id": "8bba9ef3",
   "metadata": {},
   "outputs": [],
   "source": [
    "resporta = msg.askquestion(type=msg.OKCANCEL, title='Títol', message='Esto provocarà el fin del mundo', detail='Seguro que quieres seguir?')"
   ]
  },
  {
   "cell_type": "code",
   "execution_count": 14,
   "id": "00dc6a3e",
   "metadata": {},
   "outputs": [],
   "source": [
    "resporta = msg.askquestion(type=msg.OKCANCEL, title='Títol', message='Esto provocarà el fin del mundo', detail='Seguro que quieres seguir?', icon=msg.WARNING)"
   ]
  },
  {
   "cell_type": "code",
   "execution_count": 15,
   "id": "84ae1022",
   "metadata": {},
   "outputs": [],
   "source": [
    "resporta = msg.askquestion(type=msg.OKCANCEL, title='Títol', message='Task failed successfuly', icon=msg.ERROR)"
   ]
  },
  {
   "cell_type": "markdown",
   "id": "ab015eb9",
   "metadata": {},
   "source": [
    "### Entrada de datos"
   ]
  },
  {
   "cell_type": "code",
   "execution_count": null,
   "id": "66246b00",
   "metadata": {},
   "outputs": [
    {
     "data": {
      "text/plain": [
       "32.57"
      ]
     },
     "execution_count": 16,
     "metadata": {},
     "output_type": "execute_result"
    }
   ],
   "source": [
    "from tkinter import simpledialog as sd\n",
    "\n",
    "sd.askfloat(title='title', prompt='introduce un real') # si haces cancel, la salida serà None"
   ]
  },
  {
   "cell_type": "code",
   "execution_count": 18,
   "id": "4088fe8b",
   "metadata": {},
   "outputs": [],
   "source": [
    "from tkinter import simpledialog as sd\n",
    "\n",
    "real = sd.askfloat(title='Titulo', prompt='Haz el favor de meter un real... pedazo de cernícalo!')"
   ]
  },
  {
   "cell_type": "code",
   "execution_count": 20,
   "id": "00dfd820",
   "metadata": {},
   "outputs": [
    {
     "name": "stdout",
     "output_type": "stream",
     "text": [
      "None\n"
     ]
    }
   ],
   "source": [
    "print(real) "
   ]
  },
  {
   "cell_type": "code",
   "execution_count": 22,
   "id": "3a2b9a57",
   "metadata": {},
   "outputs": [],
   "source": [
    "real = sd.askfloat(title='Titulo', prompt='Haz el favor de meter un real... pedazo de cernícalo!', minvalue=13, maxvalue=14)"
   ]
  },
  {
   "cell_type": "code",
   "execution_count": 23,
   "id": "1865f61c",
   "metadata": {},
   "outputs": [],
   "source": [
    "real = sd.askfloat(title='Titulo', prompt='Haz el favor de meter un real... pedazo de cernícalo!', minvalue=13, maxvalue=14, initialvalue=10)"
   ]
  },
  {
   "cell_type": "code",
   "execution_count": 24,
   "id": "b9209e3f",
   "metadata": {},
   "outputs": [
    {
     "data": {
      "text/plain": [
       "'tu contraseña'"
      ]
     },
     "execution_count": 24,
     "metadata": {},
     "output_type": "execute_result"
    }
   ],
   "source": [
    "sd.askstring(title='Titulo super original', prompt='pon tu contraseña...')"
   ]
  },
  {
   "cell_type": "code",
   "execution_count": 25,
   "id": "2e8459a6",
   "metadata": {},
   "outputs": [
    {
     "data": {
      "text/plain": [
       "'tu contraseña'"
      ]
     },
     "execution_count": 25,
     "metadata": {},
     "output_type": "execute_result"
    }
   ],
   "source": [
    "sd.askstring(title='Titulo super original', prompt='pon tu contraseña...', show='?')"
   ]
  },
  {
   "cell_type": "markdown",
   "id": "54db0cd9",
   "metadata": {},
   "source": [
    "- askopenfile  => Obtenemos un fichero o None\n",
    "- askopenfiles => Obtenemos una lista bacia o una lista de ficheros"
   ]
  },
  {
   "cell_type": "code",
   "execution_count": 26,
   "id": "b7fc4858",
   "metadata": {},
   "outputs": [
    {
     "data": {
      "text/plain": [
       "<_io.TextIOWrapper name='/home/arnau/apa/classes/Classe_30_04.ipynb' mode='r' encoding='UTF-8'>"
      ]
     },
     "execution_count": 26,
     "metadata": {},
     "output_type": "execute_result"
    }
   ],
   "source": [
    "from tkinter import filedialog as fd\n",
    "\n",
    "fd.askopenfile()"
   ]
  },
  {
   "cell_type": "code",
   "execution_count": 28,
   "id": "c4556e8d",
   "metadata": {},
   "outputs": [],
   "source": [
    "from pathlib import Path\n",
    "\n",
    "filename = fd.askopenfilename()"
   ]
  },
  {
   "cell_type": "code",
   "execution_count": 29,
   "id": "6a01a841",
   "metadata": {},
   "outputs": [
    {
     "data": {
      "text/plain": [
       "'/home/arnau/apa/classes/Clase_23_04.ipynb'"
      ]
     },
     "execution_count": 29,
     "metadata": {},
     "output_type": "execute_result"
    }
   ],
   "source": [
    "filename"
   ]
  },
  {
   "cell_type": "code",
   "execution_count": 31,
   "id": "f46b20a0",
   "metadata": {},
   "outputs": [],
   "source": [
    "filename = fd.askopenfilename()"
   ]
  },
  {
   "cell_type": "code",
   "execution_count": null,
   "id": "7239ccc5",
   "metadata": {},
   "outputs": [],
   "source": [
    "filename = fd.askopenfilename(initialdir=Path(filename).parent) # Para que recuerde el ultimo directorio visitado"
   ]
  },
  {
   "cell_type": "code",
   "execution_count": 36,
   "id": "baf995ef",
   "metadata": {},
   "outputs": [],
   "source": [
    "filename = fd.askopenfilename(filetypes=(('audio','.wav .mp3 .au'),('video', '.mp4 .avi .mov'),('imagen','.jpg .png')))"
   ]
  },
  {
   "cell_type": "code",
   "execution_count": 37,
   "id": "be47a9e8",
   "metadata": {},
   "outputs": [],
   "source": [
    "filename = fd.askopenfilename(initialdir=Path(filename).parent, filetypes=(('audio','.wav .mp3 .au'),('video', '.mp4 .avi .mov'),('imagen','.jpg .png')))"
   ]
  },
  {
   "cell_type": "code",
   "execution_count": 38,
   "id": "929214d2",
   "metadata": {},
   "outputs": [],
   "source": [
    "filename = fd.asksaveasfilename(defaultextension='.wav')"
   ]
  },
  {
   "cell_type": "code",
   "execution_count": 39,
   "id": "63e8eb86",
   "metadata": {},
   "outputs": [
    {
     "data": {
      "text/plain": [
       "'/home/arnau/apa/classes/.git/objects/fichero.wav'"
      ]
     },
     "execution_count": 39,
     "metadata": {},
     "output_type": "execute_result"
    }
   ],
   "source": [
    "filename"
   ]
  },
  {
   "cell_type": "code",
   "execution_count": 40,
   "id": "19f342fe",
   "metadata": {},
   "outputs": [],
   "source": [
    "filename = fd.askopenfilenames()"
   ]
  },
  {
   "cell_type": "code",
   "execution_count": 41,
   "id": "27b2ade1",
   "metadata": {},
   "outputs": [
    {
     "data": {
      "text/plain": [
       "('/home/arnau/apa/classes/Classe_07_05.ipynb',\n",
       " '/home/arnau/apa/classes/Classe_30_04.ipynb',\n",
       " '/home/arnau/apa/classes/Manual de python.ipynb')"
      ]
     },
     "execution_count": 41,
     "metadata": {},
     "output_type": "execute_result"
    }
   ],
   "source": [
    "filename"
   ]
  },
  {
   "cell_type": "code",
   "execution_count": 42,
   "id": "1621802a",
   "metadata": {},
   "outputs": [],
   "source": [
    "filename = fd.askdirectory()"
   ]
  },
  {
   "cell_type": "code",
   "execution_count": 43,
   "id": "450956fa",
   "metadata": {},
   "outputs": [
    {
     "data": {
      "text/plain": [
       "'/home/arnau/apa/classes'"
      ]
     },
     "execution_count": 43,
     "metadata": {},
     "output_type": "execute_result"
    }
   ],
   "source": [
    "filename"
   ]
  },
  {
   "cell_type": "code",
   "execution_count": 44,
   "id": "551ad4dd",
   "metadata": {},
   "outputs": [
    {
     "data": {
      "text/plain": [
       "(None, None)"
      ]
     },
     "execution_count": 44,
     "metadata": {},
     "output_type": "execute_result"
    }
   ],
   "source": [
    "from tkinter.colorchooser import askcolor\n",
    "\n",
    "# modo RGB, cadena de texto con componentes en hexadecimal, \n",
    "askcolor()\n",
    "\n"
   ]
  },
  {
   "cell_type": "code",
   "execution_count": 46,
   "id": "79fa4187",
   "metadata": {},
   "outputs": [
    {
     "data": {
      "text/plain": [
       "(None, None)"
      ]
     },
     "execution_count": 46,
     "metadata": {},
     "output_type": "execute_result"
    }
   ],
   "source": [
    "askcolor(title='Que color quieres usar?', color=(0, 255, 255))"
   ]
  },
  {
   "cell_type": "code",
   "execution_count": null,
   "id": "a4bba781",
   "metadata": {},
   "outputs": [],
   "source": []
  },
  {
   "cell_type": "markdown",
   "id": "e02224b5",
   "metadata": {},
   "source": [
    "Aqui anirà lo de la classe de dijous 22"
   ]
  },
  {
   "cell_type": "code",
   "execution_count": null,
   "id": "50dc6542",
   "metadata": {},
   "outputs": [],
   "source": []
  },
  {
   "cell_type": "markdown",
   "id": "5e218fa2",
   "metadata": {},
   "source": [
    "### Classe de dimecres 28\n",
    "---"
   ]
  },
  {
   "cell_type": "markdown",
   "id": "6deb1fd5",
   "metadata": {},
   "source": [
    "#### Tkinter mal"
   ]
  },
  {
   "cell_type": "code",
   "execution_count": 1,
   "id": "73edb48d",
   "metadata": {},
   "outputs": [
    {
     "name": "stdout",
     "output_type": "stream",
     "text": [
      "3\n"
     ]
    }
   ],
   "source": [
    "# Vamos a crear un programa que nos a escoger entre cuatro mascotas:\n",
    "\n",
    "import tkinter as tk\n",
    "from tkinter import ttk\n",
    "\n",
    "def main():\n",
    "    win = tk.Tk() # Esto nos crea la ventana\n",
    "\n",
    "    ttk.Style().configure('.', font=(\"Arial\", 16), background='Lavender Blush', padding=8)\n",
    "\n",
    "    gatito1 = tk.PhotoImage(file = 'mascotas/mascotas/gatito1.png')\n",
    "    gatito2 = tk.PhotoImage(file = 'mascotas/mascotas/gatito2.png')\n",
    "    gatito3 = tk.PhotoImage(file = 'mascotas/mascotas/gatito3.png')\n",
    "    rata = tk.PhotoImage(file = 'mascotas/mascotas/rata.png')\n",
    "\n",
    "    marcoSel = ttk.LabelFrame(win, text = 'Escull la teva mascota preferida:', labelanchor = 'n') # Esto es un artilugio\n",
    "    marcoSel.pack(side = tk.LEFT, anchor = tk.N)\n",
    "\n",
    "    marcoVis = ttk.Frame(win)\n",
    "    marcoVis.pack(side = tk.LEFT)\n",
    "\n",
    "    labelVis = ttk.Label(marcoVis)\n",
    "    labelVis.pack()\n",
    "\n",
    "    varMascota = tk.IntVar(value = -1)\n",
    "\n",
    "    def muestraGatito1():\n",
    "        labelVis.configure(image = gatito1)\n",
    "\n",
    "    def muestraGatito2():\n",
    "        labelVis.configure(image = gatito2)\n",
    "\n",
    "    def muestraGatito3():\n",
    "        labelVis.configure(image = gatito3)\n",
    "\n",
    "    def muestraRata():\n",
    "        labelVis.configure(image = rata)\n",
    "\n",
    "    radio1 = ttk.Radiobutton(marcoSel, text = 'Lindo gatito 1', variable = varMascota, value = 1, command = muestraGatito1)\n",
    "    radio1.pack()\n",
    "\n",
    "    radio2 = ttk.Radiobutton(marcoSel, text = 'Lindo gatito 2', variable = varMascota, value = 2, command = muestraGatito2)\n",
    "    radio2.pack()\n",
    "\n",
    "    radio3 = ttk.Radiobutton(marcoSel, text = 'Lindo gatito 3', variable = varMascota, value = 3, command = muestraGatito3)\n",
    "    radio3.pack()\n",
    "\n",
    "    radio4 = ttk.Radiobutton(marcoSel, text = 'Puta rata', variable = varMascota, value = 4, command = muestraRata)\n",
    "    radio4.pack()\n",
    "\n",
    "    ttk.Style().configure('.', background = 'Lavender Blush')\n",
    "\n",
    "    win.mainloop()\n",
    "\n",
    "    return varMascota\n",
    "\n",
    "if __name__ == '__main__':\n",
    "    varMascota = main()\n",
    "    print(f'{varMascota.get()}')"
   ]
  },
  {
   "cell_type": "markdown",
   "id": "7e3ed601",
   "metadata": {},
   "source": [
    "#### Tkinter bien"
   ]
  },
  {
   "cell_type": "code",
   "execution_count": 3,
   "id": "04e56491",
   "metadata": {},
   "outputs": [
    {
     "name": "stdout",
     "output_type": "stream",
     "text": [
      "2\n"
     ]
    }
   ],
   "source": [
    "import tkinter as tk\n",
    "from tkinter import ttk\n",
    "\n",
    "def muestraMascota(label, imagen):\n",
    "    def muestra():\n",
    "        label.configure(image = imagen)\n",
    "    return muestra\n",
    "\n",
    "def escogeMascota(raiz, mascotas, varMascota):\n",
    "    marcoSel = ttk.LabelFrame(raiz, text = 'Escoge tu mascota favorita', labelanchor = tk.N)\n",
    "    marcoSel.pack(side = tk.LEFT, anchor = tk.N)\n",
    "\n",
    "    marcoVis = ttk.Frame(raiz)\n",
    "    marcoVis.pack(side = tk.LEFT)\n",
    "\n",
    "    labelVis = ttk.Label(marcoVis)\n",
    "    labelVis.pack()\n",
    "\n",
    "    for value, mascota in enumerate(mascotas):\n",
    "        imagen = tk.PhotoImage(file= mascota[1])\n",
    "        radio = ttk.Radiobutton(marcoSel, text= mascota[0], value= value, variable= varMascota,\n",
    "                                command = muestraMascota(labelVis, imagen))\n",
    "        radio.pack()\n",
    "    \n",
    "    terminar = ttk.Button(marcoSel, text= 'Terminar', command= raiz.destroy)\n",
    "    terminar.pack(side= tk.BOTTOM)\n",
    "\n",
    "def main():\n",
    "    win = tk.Tk()\n",
    "    ttk.Style().configure('.', font= ('Arial', 16), background= 'Cornflower blue', padding= 8)\n",
    "    mascotas = (\n",
    "        ('Lindo gatito 1', 'mascotas/mascotas/gatito1.png'),\n",
    "        ('Lindo gatito 2', 'mascotas/mascotas/gatito2.png'),\n",
    "        ('Lindo gatito 3', 'mascotas/mascotas/gatito3.png'),\n",
    "        ('Puta rata', 'mascotas/mascotas/rata.png')\n",
    "    )\n",
    "\n",
    "    varMascota = tk.IntVar(value= -1)\n",
    "    escogeMascota(win, mascotas, varMascota)\n",
    "    win.mainloop()\n",
    "    return varMascota\n",
    "if __name__ == '__main__':\n",
    "    varMascota = main()\n",
    "    print(varMascota.get())"
   ]
  },
  {
   "cell_type": "code",
   "execution_count": 7,
   "id": "41a8aba0",
   "metadata": {},
   "outputs": [
    {
     "name": "stdout",
     "output_type": "stream",
     "text": [
      "0.9285714285714286\n"
     ]
    }
   ],
   "source": [
    "import tkinter as tk\n",
    "from tkinter import ttk\n",
    "\n",
    "def volum(raiz, varVolum):\n",
    "    marcVolum = ttk.Label(raiz, text= 'Volum', padding= 8)\n",
    "    marcVolum.pack()\n",
    "\n",
    "    volum = ttk.Scale(marcVolum, from_= 0, to= 1, length= 200, value= varVolum.get(), variable= varVolum)\n",
    "    volum.pack()\n",
    "\n",
    "def main():\n",
    "    win = tk.Tk()\n",
    "    ttk.Style().configure('.', font= ('Arial', 16), background= 'Cornflower blue', padding= 8)\n",
    "    varVolum = tk.DoubleVar(value= 0.6)\n",
    "    volum(win, varVolum)\n",
    "    win.mainloop()\n",
    "    return varVolum\n",
    "\n",
    "if __name__ == '__main__':\n",
    "    varVolum = main()\n",
    "    print(varVolum.get())"
   ]
  },
  {
   "cell_type": "code",
   "execution_count": null,
   "id": "baa36b36",
   "metadata": {},
   "outputs": [],
   "source": [
    "class Audio(tk.Variable):\n",
    "    def __init__(self):\n",
    "        self.audio = None\n",
    "        self.fm = -1\n",
    "\n",
    "    def get(self):\n",
    "        return self.audio, self.fm\n",
    "    \n",
    "    def set(self, audio, fm):\n",
    "        self.audio = audio\n",
    "        self.fm = fm\n",
    "\n",
    "from tkinter.filedialog import askopenfilename\n",
    "import soundfile as sf\n",
    "\n",
    "def selectAudio(raiz, varAudio):\n",
    "    varMensaje = tk.StringVar(raiz, 'Selecciona una canción')\n",
    "    def selectAudio():\n",
    "        fichero = askopenfilename(title= 'Selecciona una canción',\n",
    "                                  filetypes= (('Fichero de audio', '.mp3 .wav .flac'),('Todos los ficheros', '*.*')))\n",
    "        if fichero:\n",
    "            varMensaje.set(fichero)\n",
    "        señal, fm = sf.read(fichero)\n",
    "        varAudio.set(señal, fm)\n",
    "\n",
    "    boton = tk.Button(raiz, textvariable=varMensaje, command= selectAudio)\n",
    "    boton.pack()\n",
    "\n",
    "import sounddevice as sd\n",
    "\n",
    "def reproduce(varAudio, varVolumen):\n",
    "    audio, fm = varAudio.get()\n",
    "    sd.play(audio * varVolumen.get(), fm, blocking= False)\n",
    "\n",
    "def reproduceParaSal(raiz, varAudio, varVolumen):\n",
    "    marco = ttk.Frame(raiz)\n",
    "    marco.pack(side= tk.BOTTOM)\n",
    "\n",
    "    repro = ttk.Button(marco, text= 'Play', command= lambda:reproduce(varAudio, varVolumen))\n",
    "    repro.pack(side= tk.LEFT)\n",
    "\n",
    "    ttk.Button(marco, text= 'Stop', command= sd.stop).pack(side = tk.LEFT)\n",
    "\n",
    "    ttk.Button(marco, text= 'Quit', command= raiz.destroy).pack(side= tk.LEFT)\n",
    "\n",
    "def main():\n",
    "    win = tk.Tk()\n",
    "    win.title('Superreproductor de audio')\n",
    "    win.geometry('600x200')\n",
    "    win.configure(background= 'Lavender Blush')\n",
    "    ttk.Style().configure('.', font=('Arial', 16), background= 'Lavender Blush', padding= 8)\n",
    "    varAudio = Audio()\n",
    "    varVolumen = tk.DoubleVar(win, 0.6)\n",
    "    selectAudio(win, varAudio)\n",
    "    reproduceParaSal(win, varAudio, varVolumen)\n",
    "    volumen(varVolumen)\n",
    "\n",
    "    win.mainloop()\n",
    "\n",
    "if __name__ == '__main__':\n",
    "    main()\n"
   ]
  }
 ],
 "metadata": {
  "kernelspec": {
   "display_name": "Python 3",
   "language": "python",
   "name": "python3"
  },
  "language_info": {
   "codemirror_mode": {
    "name": "ipython",
    "version": 3
   },
   "file_extension": ".py",
   "mimetype": "text/x-python",
   "name": "python",
   "nbconvert_exporter": "python",
   "pygments_lexer": "ipython3",
   "version": "3.10.12"
  }
 },
 "nbformat": 4,
 "nbformat_minor": 5
}
