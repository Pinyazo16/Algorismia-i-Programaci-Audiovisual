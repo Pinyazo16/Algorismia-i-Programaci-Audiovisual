{
 "cells": [
  {
   "cell_type": "markdown",
   "id": "3b8edeb5",
   "metadata": {},
   "source": [
    "# Aplicaciones con interfaz gràfica (GUI)\n",
    "---\n",
    "\n",
    "La interfaz grafica de usiario (GUI) és bastante màs compleja de programar, y dicta como se escribe el programa. El programa principal obliga en cierto modo a programar en \"Top-to-bottom\".\n",
    "\n",
    "La libreria principal para programar en python és **tkinter**."
   ]
  },
  {
   "cell_type": "code",
   "execution_count": 1,
   "id": "709310d2",
   "metadata": {},
   "outputs": [
    {
     "name": "stdout",
     "output_type": "stream",
     "text": [
      "\u001b[0;31mSignature:\u001b[0m \u001b[0mmsg\u001b[0m\u001b[0;34m.\u001b[0m\u001b[0maskquestion\u001b[0m\u001b[0;34m(\u001b[0m\u001b[0mtitle\u001b[0m\u001b[0;34m=\u001b[0m\u001b[0;32mNone\u001b[0m\u001b[0;34m,\u001b[0m \u001b[0mmessage\u001b[0m\u001b[0;34m=\u001b[0m\u001b[0;32mNone\u001b[0m\u001b[0;34m,\u001b[0m \u001b[0;34m**\u001b[0m\u001b[0moptions\u001b[0m\u001b[0;34m)\u001b[0m\u001b[0;34m\u001b[0m\u001b[0;34m\u001b[0m\u001b[0m\n",
      "\u001b[0;31mDocstring:\u001b[0m Ask a question\n",
      "\u001b[0;31mFile:\u001b[0m      /usr/lib/python3.10/tkinter/messagebox.py\n",
      "\u001b[0;31mType:\u001b[0m      function\n"
     ]
    }
   ],
   "source": [
    "import tkinter as tk\n",
    "import tkinter.messagebox as msg\n",
    "\n",
    "msg.askquestion?"
   ]
  },
  {
   "cell_type": "code",
   "execution_count": null,
   "id": "e54e12f7",
   "metadata": {},
   "outputs": [
    {
     "data": {
      "text/plain": [
       "'yes'"
      ]
     },
     "execution_count": 3,
     "metadata": {},
     "output_type": "execute_result"
    }
   ],
   "source": [
    "import tkinter as tk\n",
    "import tkinter.messagebox as msg\n",
    "\n",
    "msg.askquestion()"
   ]
  },
  {
   "cell_type": "code",
   "execution_count": 5,
   "id": "9dbaa61a",
   "metadata": {},
   "outputs": [
    {
     "data": {
      "text/plain": [
       "True"
      ]
     },
     "execution_count": 5,
     "metadata": {},
     "output_type": "execute_result"
    }
   ],
   "source": [
    "resposta = msg.askquestion()\n",
    "resposta == msg.YES"
   ]
  },
  {
   "cell_type": "code",
   "execution_count": 6,
   "id": "950c3fba",
   "metadata": {},
   "outputs": [],
   "source": [
    "resposta = msg.askquestion(type=msg.OK)"
   ]
  },
  {
   "cell_type": "code",
   "execution_count": 7,
   "id": "16732bb4",
   "metadata": {},
   "outputs": [
    {
     "data": {
      "text/plain": [
       "'ok'"
      ]
     },
     "execution_count": 7,
     "metadata": {},
     "output_type": "execute_result"
    }
   ],
   "source": [
    "resposta"
   ]
  },
  {
   "cell_type": "code",
   "execution_count": 8,
   "id": "402d103d",
   "metadata": {},
   "outputs": [],
   "source": [
    "resporta = msg.askquestion(type=msg.ABORTRETRYIGNORE)"
   ]
  },
  {
   "cell_type": "code",
   "execution_count": 9,
   "id": "c2670185",
   "metadata": {},
   "outputs": [
    {
     "data": {
      "text/plain": [
       "'ok'"
      ]
     },
     "execution_count": 9,
     "metadata": {},
     "output_type": "execute_result"
    }
   ],
   "source": [
    "resposta"
   ]
  },
  {
   "cell_type": "code",
   "execution_count": 11,
   "id": "acc55880",
   "metadata": {},
   "outputs": [
    {
     "name": "stderr",
     "output_type": "stream",
     "text": [
      "can't invoke \"event\" command: application has been destroyed\n",
      "    while executing\n",
      "\"event generate $w <<ThemeChanged>>\"\n",
      "    (procedure \"ttk::ThemeChanged\" line 6)\n",
      "    invoked from within\n",
      "\"ttk::ThemeChanged\"\n"
     ]
    }
   ],
   "source": [
    "resporta = msg.askquestion(type=msg.OKCANCEL, title='Títol')"
   ]
  },
  {
   "cell_type": "code",
   "execution_count": 12,
   "id": "e5794b7a",
   "metadata": {},
   "outputs": [],
   "source": [
    "resporta = msg.askquestion(type=msg.OKCANCEL, title='Títol', message='Task failed successfuly')"
   ]
  },
  {
   "cell_type": "code",
   "execution_count": null,
   "id": "8bba9ef3",
   "metadata": {},
   "outputs": [],
   "source": [
    "resporta = msg.askquestion(type=msg.OKCANCEL, title='Títol', message='Esto provocarà el fin del mundo', detail='Seguro que quieres seguir?')"
   ]
  },
  {
   "cell_type": "code",
   "execution_count": 14,
   "id": "00dc6a3e",
   "metadata": {},
   "outputs": [],
   "source": [
    "resporta = msg.askquestion(type=msg.OKCANCEL, title='Títol', message='Esto provocarà el fin del mundo', detail='Seguro que quieres seguir?', icon=msg.WARNING)"
   ]
  },
  {
   "cell_type": "code",
   "execution_count": 15,
   "id": "84ae1022",
   "metadata": {},
   "outputs": [],
   "source": [
    "resporta = msg.askquestion(type=msg.OKCANCEL, title='Títol', message='Task failed successfuly', icon=msg.ERROR)"
   ]
  },
  {
   "cell_type": "markdown",
   "id": "ab015eb9",
   "metadata": {},
   "source": [
    "### Entrada de datos"
   ]
  },
  {
   "cell_type": "code",
   "execution_count": null,
   "id": "66246b00",
   "metadata": {},
   "outputs": [
    {
     "data": {
      "text/plain": [
       "32.57"
      ]
     },
     "execution_count": 16,
     "metadata": {},
     "output_type": "execute_result"
    }
   ],
   "source": [
    "from tkinter import simpledialog as sd\n",
    "\n",
    "sd.askfloat(title='title', prompt='introduce un real') # si haces cancel, la salida serà None"
   ]
  },
  {
   "cell_type": "code",
   "execution_count": 18,
   "id": "4088fe8b",
   "metadata": {},
   "outputs": [],
   "source": [
    "from tkinter import simpledialog as sd\n",
    "\n",
    "real = sd.askfloat(title='Titulo', prompt='Haz el favor de meter un real... pedazo de cernícalo!')"
   ]
  },
  {
   "cell_type": "code",
   "execution_count": 20,
   "id": "00dfd820",
   "metadata": {},
   "outputs": [
    {
     "name": "stdout",
     "output_type": "stream",
     "text": [
      "None\n"
     ]
    }
   ],
   "source": [
    "print(real) "
   ]
  },
  {
   "cell_type": "code",
   "execution_count": 22,
   "id": "3a2b9a57",
   "metadata": {},
   "outputs": [],
   "source": [
    "real = sd.askfloat(title='Titulo', prompt='Haz el favor de meter un real... pedazo de cernícalo!', minvalue=13, maxvalue=14)"
   ]
  },
  {
   "cell_type": "code",
   "execution_count": 23,
   "id": "1865f61c",
   "metadata": {},
   "outputs": [],
   "source": [
    "real = sd.askfloat(title='Titulo', prompt='Haz el favor de meter un real... pedazo de cernícalo!', minvalue=13, maxvalue=14, initialvalue=10)"
   ]
  },
  {
   "cell_type": "code",
   "execution_count": 24,
   "id": "b9209e3f",
   "metadata": {},
   "outputs": [
    {
     "data": {
      "text/plain": [
       "'tu contraseña'"
      ]
     },
     "execution_count": 24,
     "metadata": {},
     "output_type": "execute_result"
    }
   ],
   "source": [
    "sd.askstring(title='Titulo super original', prompt='pon tu contraseña...')"
   ]
  },
  {
   "cell_type": "code",
   "execution_count": 25,
   "id": "2e8459a6",
   "metadata": {},
   "outputs": [
    {
     "data": {
      "text/plain": [
       "'tu contraseña'"
      ]
     },
     "execution_count": 25,
     "metadata": {},
     "output_type": "execute_result"
    }
   ],
   "source": [
    "sd.askstring(title='Titulo super original', prompt='pon tu contraseña...', show='?')"
   ]
  },
  {
   "cell_type": "markdown",
   "id": "54db0cd9",
   "metadata": {},
   "source": [
    "- askopenfile  => Obtenemos un fichero o None\n",
    "- askopenfiles => Obtenemos una lista bacia o una lista de ficheros"
   ]
  },
  {
   "cell_type": "code",
   "execution_count": 26,
   "id": "b7fc4858",
   "metadata": {},
   "outputs": [
    {
     "data": {
      "text/plain": [
       "<_io.TextIOWrapper name='/home/arnau/apa/classes/Classe_30_04.ipynb' mode='r' encoding='UTF-8'>"
      ]
     },
     "execution_count": 26,
     "metadata": {},
     "output_type": "execute_result"
    }
   ],
   "source": [
    "from tkinter import filedialog as fd\n",
    "\n",
    "fd.askopenfile()"
   ]
  },
  {
   "cell_type": "code",
   "execution_count": 28,
   "id": "c4556e8d",
   "metadata": {},
   "outputs": [],
   "source": [
    "from pathlib import Path\n",
    "\n",
    "filename = fd.askopenfilename()"
   ]
  },
  {
   "cell_type": "code",
   "execution_count": 29,
   "id": "6a01a841",
   "metadata": {},
   "outputs": [
    {
     "data": {
      "text/plain": [
       "'/home/arnau/apa/classes/Clase_23_04.ipynb'"
      ]
     },
     "execution_count": 29,
     "metadata": {},
     "output_type": "execute_result"
    }
   ],
   "source": [
    "filename"
   ]
  },
  {
   "cell_type": "code",
   "execution_count": 31,
   "id": "f46b20a0",
   "metadata": {},
   "outputs": [],
   "source": [
    "filename = fd.askopenfilename()"
   ]
  },
  {
   "cell_type": "code",
   "execution_count": null,
   "id": "7239ccc5",
   "metadata": {},
   "outputs": [],
   "source": [
    "filename = fd.askopenfilename(initialdir=Path(filename).parent) # Para que recuerde el ultimo directorio visitado"
   ]
  },
  {
   "cell_type": "code",
   "execution_count": 36,
   "id": "baf995ef",
   "metadata": {},
   "outputs": [],
   "source": [
    "filename = fd.askopenfilename(filetypes=(('audio','.wav .mp3 .au'),('video', '.mp4 .avi .mov'),('imagen','.jpg .png')))"
   ]
  },
  {
   "cell_type": "code",
   "execution_count": 37,
   "id": "be47a9e8",
   "metadata": {},
   "outputs": [],
   "source": [
    "filename = fd.askopenfilename(initialdir=Path(filename).parent, filetypes=(('audio','.wav .mp3 .au'),('video', '.mp4 .avi .mov'),('imagen','.jpg .png')))"
   ]
  },
  {
   "cell_type": "code",
   "execution_count": 38,
   "id": "929214d2",
   "metadata": {},
   "outputs": [],
   "source": [
    "filename = fd.asksaveasfilename(defaultextension='.wav')"
   ]
  },
  {
   "cell_type": "code",
   "execution_count": 39,
   "id": "63e8eb86",
   "metadata": {},
   "outputs": [
    {
     "data": {
      "text/plain": [
       "'/home/arnau/apa/classes/.git/objects/fichero.wav'"
      ]
     },
     "execution_count": 39,
     "metadata": {},
     "output_type": "execute_result"
    }
   ],
   "source": [
    "filename"
   ]
  },
  {
   "cell_type": "code",
   "execution_count": 40,
   "id": "19f342fe",
   "metadata": {},
   "outputs": [],
   "source": [
    "filename = fd.askopenfilenames()"
   ]
  },
  {
   "cell_type": "code",
   "execution_count": 41,
   "id": "27b2ade1",
   "metadata": {},
   "outputs": [
    {
     "data": {
      "text/plain": [
       "('/home/arnau/apa/classes/Classe_07_05.ipynb',\n",
       " '/home/arnau/apa/classes/Classe_30_04.ipynb',\n",
       " '/home/arnau/apa/classes/Manual de python.ipynb')"
      ]
     },
     "execution_count": 41,
     "metadata": {},
     "output_type": "execute_result"
    }
   ],
   "source": [
    "filename"
   ]
  },
  {
   "cell_type": "code",
   "execution_count": 42,
   "id": "1621802a",
   "metadata": {},
   "outputs": [],
   "source": [
    "filename = fd.askdirectory()"
   ]
  },
  {
   "cell_type": "code",
   "execution_count": 43,
   "id": "450956fa",
   "metadata": {},
   "outputs": [
    {
     "data": {
      "text/plain": [
       "'/home/arnau/apa/classes'"
      ]
     },
     "execution_count": 43,
     "metadata": {},
     "output_type": "execute_result"
    }
   ],
   "source": [
    "filename"
   ]
  },
  {
   "cell_type": "code",
   "execution_count": 44,
   "id": "551ad4dd",
   "metadata": {},
   "outputs": [
    {
     "data": {
      "text/plain": [
       "(None, None)"
      ]
     },
     "execution_count": 44,
     "metadata": {},
     "output_type": "execute_result"
    }
   ],
   "source": [
    "from tkinter.colorchooser import askcolor\n",
    "\n",
    "# modo RGB, cadena de texto con componentes en hexadecimal, \n",
    "askcolor()\n",
    "\n"
   ]
  },
  {
   "cell_type": "code",
   "execution_count": 46,
   "id": "79fa4187",
   "metadata": {},
   "outputs": [
    {
     "data": {
      "text/plain": [
       "(None, None)"
      ]
     },
     "execution_count": 46,
     "metadata": {},
     "output_type": "execute_result"
    }
   ],
   "source": [
    "askcolor(title='Que color quieres usar?', color=(0, 255, 255))"
   ]
  },
  {
   "cell_type": "code",
   "execution_count": null,
   "id": "a4bba781",
   "metadata": {},
   "outputs": [],
   "source": []
  }
 ],
 "metadata": {
  "kernelspec": {
   "display_name": "Python 3",
   "language": "python",
   "name": "python3"
  },
  "language_info": {
   "codemirror_mode": {
    "name": "ipython",
    "version": 3
   },
   "file_extension": ".py",
   "mimetype": "text/x-python",
   "name": "python",
   "nbconvert_exporter": "python",
   "pygments_lexer": "ipython3",
   "version": "3.10.12"
  }
 },
 "nbformat": 4,
 "nbformat_minor": 5
}
